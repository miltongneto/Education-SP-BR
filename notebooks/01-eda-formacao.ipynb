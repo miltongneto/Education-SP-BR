{
 "cells": [
  {
   "cell_type": "markdown",
   "metadata": {},
   "source": [
    "# Exploratory Data Analysis - Formação\n",
    "Formação dos servidores"
   ]
  },
  {
   "cell_type": "markdown",
   "metadata": {},
   "source": [
    "#### Imports"
   ]
  },
  {
   "cell_type": "code",
   "execution_count": 1,
   "metadata": {},
   "outputs": [],
   "source": [
    "import pandas as pd\n",
    "import os\n",
    "import matplotlib.pyplot as plt\n",
    "import seaborn as sns\n",
    "import numpy as np\n",
    "from unidecode import unidecode\n",
    "\n",
    "pd.set_option('display.max_columns', None)"
   ]
  },
  {
   "cell_type": "markdown",
   "metadata": {},
   "source": [
    "### Load data"
   ]
  },
  {
   "cell_type": "code",
   "execution_count": 2,
   "metadata": {},
   "outputs": [],
   "source": [
    "PATH = '../data/raw'"
   ]
  },
  {
   "cell_type": "code",
   "execution_count": 3,
   "metadata": {},
   "outputs": [
    {
     "name": "stdout",
     "output_type": "stream",
     "text": [
      "(240465, 21)\n"
     ]
    },
    {
     "data": {
      "text/html": [
       "<div>\n",
       "<style scoped>\n",
       "    .dataframe tbody tr th:only-of-type {\n",
       "        vertical-align: middle;\n",
       "    }\n",
       "\n",
       "    .dataframe tbody tr th {\n",
       "        vertical-align: top;\n",
       "    }\n",
       "\n",
       "    .dataframe thead th {\n",
       "        text-align: right;\n",
       "    }\n",
       "</style>\n",
       "<table border=\"1\" class=\"dataframe\">\n",
       "  <thead>\n",
       "    <tr style=\"text-align: right;\">\n",
       "      <th></th>\n",
       "      <th>REGIAO_EXERC</th>\n",
       "      <th>DE_EXERC</th>\n",
       "      <th>CIE_ESCOLA</th>\n",
       "      <th>UA_EXERC</th>\n",
       "      <th>NOME_UA_EXERC</th>\n",
       "      <th>MUNICIPIO_EXERC</th>\n",
       "      <th>RG12</th>\n",
       "      <th>DI</th>\n",
       "      <th>CPF</th>\n",
       "      <th>NOME</th>\n",
       "      <th>QUADRO_C</th>\n",
       "      <th>CARGO_C</th>\n",
       "      <th>NM_CARGO_C</th>\n",
       "      <th>CATEG_C</th>\n",
       "      <th>DTIEXER_C</th>\n",
       "      <th>QUADRO_E</th>\n",
       "      <th>CARGO_E</th>\n",
       "      <th>NMCARGO_E</th>\n",
       "      <th>CATEG_E</th>\n",
       "      <th>FORMACAO</th>\n",
       "      <th>id_interno</th>\n",
       "    </tr>\n",
       "  </thead>\n",
       "  <tbody>\n",
       "    <tr>\n",
       "      <th>0</th>\n",
       "      <td>INTERIOR</td>\n",
       "      <td>D.E.REG. RIBEIRAO PRETO</td>\n",
       "      <td>911306</td>\n",
       "      <td>79305</td>\n",
       "      <td>EE ROSANGELA BASILE-PROFA.</td>\n",
       "      <td>RIBEIRAO PRETO</td>\n",
       "      <td>164234.0</td>\n",
       "      <td>1.0</td>\n",
       "      <td>164234.0</td>\n",
       "      <td>164234.0</td>\n",
       "      <td>QM</td>\n",
       "      <td>6407.0</td>\n",
       "      <td>PROFESSOR EDUCACAO BASICA I</td>\n",
       "      <td>O</td>\n",
       "      <td>01/06/2016</td>\n",
       "      <td>QM</td>\n",
       "      <td>6407.0</td>\n",
       "      <td>PROFESSOR EDUCACAO BASICA I</td>\n",
       "      <td>O</td>\n",
       "      <td>LICENCIATURA</td>\n",
       "      <td>164234.0</td>\n",
       "    </tr>\n",
       "    <tr>\n",
       "      <th>1</th>\n",
       "      <td>INTERIOR</td>\n",
       "      <td>D.E.REG. RIBEIRAO PRETO</td>\n",
       "      <td>911306</td>\n",
       "      <td>79305</td>\n",
       "      <td>EE ROSANGELA BASILE-PROFA.</td>\n",
       "      <td>RIBEIRAO PRETO</td>\n",
       "      <td>382145.0</td>\n",
       "      <td>1.0</td>\n",
       "      <td>382145.0</td>\n",
       "      <td>382145.0</td>\n",
       "      <td>QM</td>\n",
       "      <td>6407.0</td>\n",
       "      <td>PROFESSOR EDUCACAO BASICA I</td>\n",
       "      <td>A</td>\n",
       "      <td>08/02/1993</td>\n",
       "      <td>QM</td>\n",
       "      <td>6407.0</td>\n",
       "      <td>PROFESSOR EDUCACAO BASICA I</td>\n",
       "      <td>A</td>\n",
       "      <td>LICENCIATURA + BACHARELADO/TECNÌÒLOGO + ESPECI...</td>\n",
       "      <td>382145.0</td>\n",
       "    </tr>\n",
       "    <tr>\n",
       "      <th>2</th>\n",
       "      <td>INTERIOR</td>\n",
       "      <td>D.E.REG. RIBEIRAO PRETO</td>\n",
       "      <td>911306</td>\n",
       "      <td>79305</td>\n",
       "      <td>EE ROSANGELA BASILE-PROFA.</td>\n",
       "      <td>RIBEIRAO PRETO</td>\n",
       "      <td>345349.0</td>\n",
       "      <td>1.0</td>\n",
       "      <td>345349.0</td>\n",
       "      <td>345349.0</td>\n",
       "      <td>QM</td>\n",
       "      <td>6407.0</td>\n",
       "      <td>PROFESSOR EDUCACAO BASICA I</td>\n",
       "      <td>A</td>\n",
       "      <td>18/08/1994</td>\n",
       "      <td>QM</td>\n",
       "      <td>6407.0</td>\n",
       "      <td>PROFESSOR EDUCACAO BASICA I</td>\n",
       "      <td>A</td>\n",
       "      <td>LICENCIATURA + ESPECIALIZAÌàÌÄO</td>\n",
       "      <td>345349.0</td>\n",
       "    </tr>\n",
       "    <tr>\n",
       "      <th>3</th>\n",
       "      <td>INTERIOR</td>\n",
       "      <td>D.E.REG. RIBEIRAO PRETO</td>\n",
       "      <td>911306</td>\n",
       "      <td>79305</td>\n",
       "      <td>EE ROSANGELA BASILE-PROFA.</td>\n",
       "      <td>RIBEIRAO PRETO</td>\n",
       "      <td>290900.0</td>\n",
       "      <td>1.0</td>\n",
       "      <td>290900.0</td>\n",
       "      <td>290900.0</td>\n",
       "      <td>QM</td>\n",
       "      <td>6407.0</td>\n",
       "      <td>PROFESSOR EDUCACAO BASICA I</td>\n",
       "      <td>O</td>\n",
       "      <td>03/04/2017</td>\n",
       "      <td>QM</td>\n",
       "      <td>6407.0</td>\n",
       "      <td>PROFESSOR EDUCACAO BASICA I</td>\n",
       "      <td>O</td>\n",
       "      <td>LICENCIATURA</td>\n",
       "      <td>290900.0</td>\n",
       "    </tr>\n",
       "    <tr>\n",
       "      <th>4</th>\n",
       "      <td>INTERIOR</td>\n",
       "      <td>D.E.REG. RIBEIRAO PRETO</td>\n",
       "      <td>911306</td>\n",
       "      <td>79305</td>\n",
       "      <td>EE ROSANGELA BASILE-PROFA.</td>\n",
       "      <td>RIBEIRAO PRETO</td>\n",
       "      <td>316060.0</td>\n",
       "      <td>1.0</td>\n",
       "      <td>316060.0</td>\n",
       "      <td>316060.0</td>\n",
       "      <td>QM</td>\n",
       "      <td>6407.0</td>\n",
       "      <td>PROFESSOR EDUCACAO BASICA I</td>\n",
       "      <td>O</td>\n",
       "      <td>04/06/2018</td>\n",
       "      <td>QM</td>\n",
       "      <td>6407.0</td>\n",
       "      <td>PROFESSOR EDUCACAO BASICA I</td>\n",
       "      <td>O</td>\n",
       "      <td>LICENCIATURA</td>\n",
       "      <td>316060.0</td>\n",
       "    </tr>\n",
       "  </tbody>\n",
       "</table>\n",
       "</div>"
      ],
      "text/plain": [
       "  REGIAO_EXERC                 DE_EXERC  CIE_ESCOLA  UA_EXERC  \\\n",
       "0     INTERIOR  D.E.REG. RIBEIRAO PRETO      911306     79305   \n",
       "1     INTERIOR  D.E.REG. RIBEIRAO PRETO      911306     79305   \n",
       "2     INTERIOR  D.E.REG. RIBEIRAO PRETO      911306     79305   \n",
       "3     INTERIOR  D.E.REG. RIBEIRAO PRETO      911306     79305   \n",
       "4     INTERIOR  D.E.REG. RIBEIRAO PRETO      911306     79305   \n",
       "\n",
       "                   NOME_UA_EXERC                          MUNICIPIO_EXERC  \\\n",
       "0  EE ROSANGELA BASILE-PROFA.     RIBEIRAO PRETO                            \n",
       "1  EE ROSANGELA BASILE-PROFA.     RIBEIRAO PRETO                            \n",
       "2  EE ROSANGELA BASILE-PROFA.     RIBEIRAO PRETO                            \n",
       "3  EE ROSANGELA BASILE-PROFA.     RIBEIRAO PRETO                            \n",
       "4  EE ROSANGELA BASILE-PROFA.     RIBEIRAO PRETO                            \n",
       "\n",
       "       RG12   DI       CPF      NOME QUADRO_C  CARGO_C  \\\n",
       "0  164234.0  1.0  164234.0  164234.0       QM   6407.0   \n",
       "1  382145.0  1.0  382145.0  382145.0       QM   6407.0   \n",
       "2  345349.0  1.0  345349.0  345349.0       QM   6407.0   \n",
       "3  290900.0  1.0  290900.0  290900.0       QM   6407.0   \n",
       "4  316060.0  1.0  316060.0  316060.0       QM   6407.0   \n",
       "\n",
       "                    NM_CARGO_C CATEG_C   DTIEXER_C QUADRO_E  CARGO_E  \\\n",
       "0  PROFESSOR EDUCACAO BASICA I       O  01/06/2016       QM   6407.0   \n",
       "1  PROFESSOR EDUCACAO BASICA I       A  08/02/1993       QM   6407.0   \n",
       "2  PROFESSOR EDUCACAO BASICA I       A  18/08/1994       QM   6407.0   \n",
       "3  PROFESSOR EDUCACAO BASICA I       O  03/04/2017       QM   6407.0   \n",
       "4  PROFESSOR EDUCACAO BASICA I       O  04/06/2018       QM   6407.0   \n",
       "\n",
       "                     NMCARGO_E CATEG_E  \\\n",
       "0  PROFESSOR EDUCACAO BASICA I       O   \n",
       "1  PROFESSOR EDUCACAO BASICA I       A   \n",
       "2  PROFESSOR EDUCACAO BASICA I       A   \n",
       "3  PROFESSOR EDUCACAO BASICA I       O   \n",
       "4  PROFESSOR EDUCACAO BASICA I       O   \n",
       "\n",
       "                                            FORMACAO  id_interno  \n",
       "0                                       LICENCIATURA    164234.0  \n",
       "1  LICENCIATURA + BACHARELADO/TECNÌÒLOGO + ESPECI...    382145.0  \n",
       "2                    LICENCIATURA + ESPECIALIZAÌàÌÄO    345349.0  \n",
       "3                                       LICENCIATURA    290900.0  \n",
       "4                                       LICENCIATURA    316060.0  "
      ]
     },
     "execution_count": 3,
     "metadata": {},
     "output_type": "execute_result"
    }
   ],
   "source": [
    "data = pd.read_csv(os.path.join(PATH, 'BASE_FORMACAO_1118.csv'), sep=';', encoding='latin-1', decimal=',')\n",
    "print(data.shape)\n",
    "data.head()"
   ]
  },
  {
   "cell_type": "markdown",
   "metadata": {},
   "source": [
    "## Remoção de caracteres especiais"
   ]
  },
  {
   "cell_type": "code",
   "execution_count": 4,
   "metadata": {},
   "outputs": [],
   "source": [
    "data['FORMACAO'].fillna('S/INFO', inplace=True)"
   ]
  },
  {
   "cell_type": "code",
   "execution_count": 5,
   "metadata": {},
   "outputs": [],
   "source": [
    "data['FORMACAO'] = data['FORMACAO'].apply(unidecode)"
   ]
  },
  {
   "cell_type": "markdown",
   "metadata": {},
   "source": [
    "## Estatísticas básicas"
   ]
  },
  {
   "cell_type": "code",
   "execution_count": 6,
   "metadata": {},
   "outputs": [
    {
     "data": {
      "text/html": [
       "<div>\n",
       "<style scoped>\n",
       "    .dataframe tbody tr th:only-of-type {\n",
       "        vertical-align: middle;\n",
       "    }\n",
       "\n",
       "    .dataframe tbody tr th {\n",
       "        vertical-align: top;\n",
       "    }\n",
       "\n",
       "    .dataframe thead th {\n",
       "        text-align: right;\n",
       "    }\n",
       "</style>\n",
       "<table border=\"1\" class=\"dataframe\">\n",
       "  <thead>\n",
       "    <tr style=\"text-align: right;\">\n",
       "      <th></th>\n",
       "      <th>REGIAO_EXERC</th>\n",
       "      <th>DE_EXERC</th>\n",
       "      <th>NOME_UA_EXERC</th>\n",
       "      <th>MUNICIPIO_EXERC</th>\n",
       "      <th>QUADRO_C</th>\n",
       "      <th>NM_CARGO_C</th>\n",
       "      <th>CATEG_C</th>\n",
       "      <th>DTIEXER_C</th>\n",
       "      <th>QUADRO_E</th>\n",
       "      <th>NMCARGO_E</th>\n",
       "      <th>CATEG_E</th>\n",
       "      <th>FORMACAO</th>\n",
       "    </tr>\n",
       "  </thead>\n",
       "  <tbody>\n",
       "    <tr>\n",
       "      <th>count</th>\n",
       "      <td>240465</td>\n",
       "      <td>240465</td>\n",
       "      <td>240465</td>\n",
       "      <td>240439</td>\n",
       "      <td>240439</td>\n",
       "      <td>240439</td>\n",
       "      <td>240439</td>\n",
       "      <td>240439</td>\n",
       "      <td>240439</td>\n",
       "      <td>240439</td>\n",
       "      <td>240439</td>\n",
       "      <td>240465</td>\n",
       "    </tr>\n",
       "    <tr>\n",
       "      <th>unique</th>\n",
       "      <td>4</td>\n",
       "      <td>100</td>\n",
       "      <td>5203</td>\n",
       "      <td>644</td>\n",
       "      <td>3</td>\n",
       "      <td>43</td>\n",
       "      <td>7</td>\n",
       "      <td>6118</td>\n",
       "      <td>3</td>\n",
       "      <td>43</td>\n",
       "      <td>8</td>\n",
       "      <td>29</td>\n",
       "    </tr>\n",
       "    <tr>\n",
       "      <th>top</th>\n",
       "      <td>INTERIOR</td>\n",
       "      <td>D.E.REG. SUL 3</td>\n",
       "      <td>EE ANCHIETA-PADRE</td>\n",
       "      <td>SAO PAULO</td>\n",
       "      <td>QM</td>\n",
       "      <td>PROFESSOR EDUCACAO BASICA II</td>\n",
       "      <td>A</td>\n",
       "      <td>07/02/2000</td>\n",
       "      <td>QM</td>\n",
       "      <td>PROFESSOR EDUCACAO BASICA II</td>\n",
       "      <td>A</td>\n",
       "      <td>LICENCIATURA</td>\n",
       "    </tr>\n",
       "    <tr>\n",
       "      <th>freq</th>\n",
       "      <td>122865</td>\n",
       "      <td>6123</td>\n",
       "      <td>340</td>\n",
       "      <td>62124</td>\n",
       "      <td>197430</td>\n",
       "      <td>151460</td>\n",
       "      <td>168089</td>\n",
       "      <td>17550</td>\n",
       "      <td>197111</td>\n",
       "      <td>149511</td>\n",
       "      <td>164457</td>\n",
       "      <td>162723</td>\n",
       "    </tr>\n",
       "  </tbody>\n",
       "</table>\n",
       "</div>"
      ],
      "text/plain": [
       "       REGIAO_EXERC         DE_EXERC                   NOME_UA_EXERC  \\\n",
       "count        240465           240465                          240465   \n",
       "unique            4              100                            5203   \n",
       "top        INTERIOR  D.E.REG. SUL 3   EE ANCHIETA-PADRE                \n",
       "freq         122865             6123                             340   \n",
       "\n",
       "                                MUNICIPIO_EXERC QUADRO_C  \\\n",
       "count                                    240439   240439   \n",
       "unique                                      644        3   \n",
       "top     SAO PAULO                                     QM   \n",
       "freq                                      62124   197430   \n",
       "\n",
       "                          NM_CARGO_C CATEG_C   DTIEXER_C QUADRO_E  \\\n",
       "count                         240439  240439      240439   240439   \n",
       "unique                            43       7        6118        3   \n",
       "top     PROFESSOR EDUCACAO BASICA II       A  07/02/2000       QM   \n",
       "freq                          151460  168089       17550   197111   \n",
       "\n",
       "                           NMCARGO_E CATEG_E      FORMACAO  \n",
       "count                         240439  240439        240465  \n",
       "unique                            43       8            29  \n",
       "top     PROFESSOR EDUCACAO BASICA II       A  LICENCIATURA  \n",
       "freq                          149511  164457        162723  "
      ]
     },
     "execution_count": 6,
     "metadata": {},
     "output_type": "execute_result"
    }
   ],
   "source": [
    "data.select_dtypes('object').describe()"
   ]
  },
  {
   "cell_type": "code",
   "execution_count": 7,
   "metadata": {},
   "outputs": [
    {
     "data": {
      "text/plain": [
       "5133"
      ]
     },
     "execution_count": 7,
     "metadata": {},
     "output_type": "execute_result"
    }
   ],
   "source": [
    "data['CIE_ESCOLA'].nunique()"
   ]
  },
  {
   "cell_type": "markdown",
   "metadata": {},
   "source": [
    "## Análise dos Títulos (*FORMACAO*)"
   ]
  },
  {
   "cell_type": "code",
   "execution_count": 8,
   "metadata": {},
   "outputs": [
    {
     "data": {
      "text/plain": [
       "LICENCIATURA                                                                     162723\n",
       "ENSINO MIaDIO                                                                     27775\n",
       "LICENCIATURA + ESPECIALIZAIaIAO                                                   16706\n",
       "LICENCIATURA + BACHARELADO/TECNIOLOGO                                             11986\n",
       "BACHARELADO/TECNIOLOGO                                                             8557\n",
       "LICENCIATURA + MESTRADO                                                            5100\n",
       "ENSINO FUNDAMENTAL                                                                 2144\n",
       "S/INFO                                                                             1519\n",
       "LICENCIATURA + BACHARELADO/TECNIOLOGO + ESPECIALIZAIaIAO                           1325\n",
       "LICENCIATURA + BACHARELADO/TECNIOLOGO + MESTRADO                                    696\n",
       "LICENCIATURA + MESTRADO+DOUTORADO                                                   634\n",
       "LICENCIATURA + ESPECIALIZAIaIAO + MESTRADO                                          544\n",
       "BACHARELADO/TECNIOLOGO + ESPECIALIZAIaIAO                                           317\n",
       "LICENCIATURA + BACHARELADO/TECNIOLOGO + ESPECIALIZAIaIAO + MESTRADO                  95\n",
       "LICENCIATURA + BACHARELADO/TECNIOLOGO + MESTRADO + DOUTORADO                         92\n",
       "LICENCIATURA + DOUTORADO                                                             55\n",
       "APERF/EXTENSIAO CULTURAL                                                             53\n",
       "LICENCIATURA + ESPECIALIZAIaIAO + MESTRADO + DOUTORADO                               45\n",
       "BACHARELADO/TECNIOLOGO + MESTRADO                                                    36\n",
       "ESPECIALIZAIaIAO                                                                     20\n",
       "LICENCIATURA + BACHARELADO/TECNIOLOGO + DOUTORADO                                    14\n",
       "LICENCIATURA + BACHARELADO/TECNIOLOGO+ESPECIALIZAIaIAO + MESTRADO + DOUTORADO         9\n",
       "BACHARELADO/TECNIOLOGO + MESTRADO + DOUTORADO                                         6\n",
       "LICENCIATURA + ESPECIALIZAIaIAO+DOUTORADO                                             5\n",
       "BACHARELADO/TECNIOLOGO + DOUTORADO                                                    2\n",
       "BACHARELADO/TECNIOLOGO + ESPECIALIZAIaIAO + MESTRADO                                  2\n",
       "LICENCIATURA + BACHARELADO/TECNIOLOGO+ESPECIALIZAIaIAO+DOUTORADO                      2\n",
       "MESTRADO                                                                              2\n",
       "ESPECIALIZAIaIAO+MESTRADO                                                             1\n",
       "Name: FORMACAO, dtype: int64"
      ]
     },
     "execution_count": 8,
     "metadata": {},
     "output_type": "execute_result"
    }
   ],
   "source": [
    "data['FORMACAO'].value_counts()"
   ]
  },
  {
   "cell_type": "markdown",
   "metadata": {},
   "source": [
    "#### Formatação e extração de informação do atributo FORMACAO\n",
    "As formações aparecem de diferentes formas, em alguns momentos apenas um título (o de maior expressão), em outros momentos em forma de lista separado por '+'\n",
    "Para aproveitar melhor esse atributo serão realizadas duas operações:\n",
    " 1. Criar uma coluna para cada título\n",
    " 2. Criar uma coluna com o título obtido de maior expressão"
   ]
  },
  {
   "cell_type": "code",
   "execution_count": 9,
   "metadata": {},
   "outputs": [],
   "source": [
    "df_formacao_dummie = data['FORMACAO'].str.replace(' ', '').str.get_dummies(sep='+')"
   ]
  },
  {
   "cell_type": "code",
   "execution_count": 10,
   "metadata": {},
   "outputs": [
    {
     "data": {
      "text/html": [
       "<div>\n",
       "<style scoped>\n",
       "    .dataframe tbody tr th:only-of-type {\n",
       "        vertical-align: middle;\n",
       "    }\n",
       "\n",
       "    .dataframe tbody tr th {\n",
       "        vertical-align: top;\n",
       "    }\n",
       "\n",
       "    .dataframe thead th {\n",
       "        text-align: right;\n",
       "    }\n",
       "</style>\n",
       "<table border=\"1\" class=\"dataframe\">\n",
       "  <thead>\n",
       "    <tr style=\"text-align: right;\">\n",
       "      <th></th>\n",
       "      <th>APERF/EXTENSIAOCULTURAL</th>\n",
       "      <th>BACHARELADO/TECNIOLOGO</th>\n",
       "      <th>DOUTORADO</th>\n",
       "      <th>ENSINOFUNDAMENTAL</th>\n",
       "      <th>ENSINOMIaDIO</th>\n",
       "      <th>ESPECIALIZAIaIAO</th>\n",
       "      <th>LICENCIATURA</th>\n",
       "      <th>MESTRADO</th>\n",
       "      <th>S/INFO</th>\n",
       "    </tr>\n",
       "  </thead>\n",
       "  <tbody>\n",
       "    <tr>\n",
       "      <th>0</th>\n",
       "      <td>0</td>\n",
       "      <td>0</td>\n",
       "      <td>0</td>\n",
       "      <td>0</td>\n",
       "      <td>0</td>\n",
       "      <td>0</td>\n",
       "      <td>1</td>\n",
       "      <td>0</td>\n",
       "      <td>0</td>\n",
       "    </tr>\n",
       "    <tr>\n",
       "      <th>1</th>\n",
       "      <td>0</td>\n",
       "      <td>1</td>\n",
       "      <td>0</td>\n",
       "      <td>0</td>\n",
       "      <td>0</td>\n",
       "      <td>1</td>\n",
       "      <td>1</td>\n",
       "      <td>0</td>\n",
       "      <td>0</td>\n",
       "    </tr>\n",
       "    <tr>\n",
       "      <th>2</th>\n",
       "      <td>0</td>\n",
       "      <td>0</td>\n",
       "      <td>0</td>\n",
       "      <td>0</td>\n",
       "      <td>0</td>\n",
       "      <td>1</td>\n",
       "      <td>1</td>\n",
       "      <td>0</td>\n",
       "      <td>0</td>\n",
       "    </tr>\n",
       "    <tr>\n",
       "      <th>3</th>\n",
       "      <td>0</td>\n",
       "      <td>0</td>\n",
       "      <td>0</td>\n",
       "      <td>0</td>\n",
       "      <td>0</td>\n",
       "      <td>0</td>\n",
       "      <td>1</td>\n",
       "      <td>0</td>\n",
       "      <td>0</td>\n",
       "    </tr>\n",
       "    <tr>\n",
       "      <th>4</th>\n",
       "      <td>0</td>\n",
       "      <td>0</td>\n",
       "      <td>0</td>\n",
       "      <td>0</td>\n",
       "      <td>0</td>\n",
       "      <td>0</td>\n",
       "      <td>1</td>\n",
       "      <td>0</td>\n",
       "      <td>0</td>\n",
       "    </tr>\n",
       "  </tbody>\n",
       "</table>\n",
       "</div>"
      ],
      "text/plain": [
       "   APERF/EXTENSIAOCULTURAL  BACHARELADO/TECNIOLOGO  DOUTORADO  \\\n",
       "0                        0                       0          0   \n",
       "1                        0                       1          0   \n",
       "2                        0                       0          0   \n",
       "3                        0                       0          0   \n",
       "4                        0                       0          0   \n",
       "\n",
       "   ENSINOFUNDAMENTAL  ENSINOMIaDIO  ESPECIALIZAIaIAO  LICENCIATURA  MESTRADO  \\\n",
       "0                  0             0                 0             1         0   \n",
       "1                  0             0                 1             1         0   \n",
       "2                  0             0                 1             1         0   \n",
       "3                  0             0                 0             1         0   \n",
       "4                  0             0                 0             1         0   \n",
       "\n",
       "   S/INFO  \n",
       "0       0  \n",
       "1       0  \n",
       "2       0  \n",
       "3       0  \n",
       "4       0  "
      ]
     },
     "execution_count": 10,
     "metadata": {},
     "output_type": "execute_result"
    }
   ],
   "source": [
    "df_formacao_dummie.head()"
   ]
  },
  {
   "cell_type": "code",
   "execution_count": 11,
   "metadata": {},
   "outputs": [
    {
     "data": {
      "text/plain": [
       "<matplotlib.axes._subplots.AxesSubplot at 0x7faa8e37ce50>"
      ]
     },
     "execution_count": 11,
     "metadata": {},
     "output_type": "execute_result"
    },
    {
     "data": {
      "image/png": "[encoded data removed]",
      "text/plain": [
       "<Figure size 1008x576 with 1 Axes>"
      ]
     },
     "metadata": {
      "needs_background": "light"
     },
     "output_type": "display_data"
    }
   ],
   "source": [
    "df_formacao_dummie.sum().sort_values().plot(kind='barh', figsize=(14,8), title='Quantidade de títulos (todos)')"
   ]
  },
  {
   "cell_type": "code",
   "execution_count": 1,
   "metadata": {},
   "outputs": [],
   "source": [
    "## Funcao para obter o maior titulo de um servidor\n",
    "def get_highest_degree(aperf_extensao, bacharel, doutorado, fundamental, medio, especializacao, licenciatura, mestrado, desconhecido):\n",
    "    result = None\n",
    "    \n",
    "    if desconhecido:\n",
    "        result = 'S/INFO'\n",
    "    elif doutorado:\n",
    "        result = 'DOUTORADO'\n",
    "    elif mestrado:\n",
    "        result = 'MESTRADO'\n",
    "    elif especializacao:\n",
    "        result = 'ESPECIALIZACAO'\n",
    "    elif aperf_extensao:\n",
    "        result = 'APERF/EXTENSIAOCULTURAL'\n",
    "    elif bacharel:\n",
    "        result = 'BACHARELADO/TECNIOLOGO'\n",
    "    elif licenciatura:\n",
    "        result = 'LICENCIATURA'\n",
    "    elif medio:\n",
    "        result = 'ENSINO_MEDIO'\n",
    "    elif fundamental:\n",
    "        result = 'ENSINO_FUNDAMENTAL'\n",
    "\n",
    "    return result"
   ]
  },
  {
   "cell_type": "code",
   "execution_count": 14,
   "metadata": {},
   "outputs": [],
   "source": [
    "df_maior_titulacao = df_formacao_dummie.apply(lambda x:\n",
    "                                get_highest_degree(x['APERF/EXTENSIAOCULTURAL'], x['BACHARELADO/TECNIOLOGO'], x['DOUTORADO'], x['ENSINOFUNDAMENTAL'], x['ENSINOMIaDIO'], x['ESPECIALIZAIaIAO'], x['LICENCIATURA'], x['MESTRADO'], x['S/INFO']),\n",
    "                                axis=1)"
   ]
  },
  {
   "cell_type": "code",
   "execution_count": 15,
   "metadata": {},
   "outputs": [
    {
     "data": {
      "text/plain": [
       "<matplotlib.axes._subplots.AxesSubplot at 0x7faa9ba53a10>"
      ]
     },
     "execution_count": 15,
     "metadata": {},
     "output_type": "execute_result"
    },
    {
     "data": {
      "image/png": "[encoded data removed]",
      "text/plain": [
       "<Figure size 1008x576 with 1 Axes>"
      ]
     },
     "metadata": {
      "needs_background": "light"
     },
     "output_type": "display_data"
    }
   ],
   "source": [
    "df_maior_titulacao.value_counts().sort_values().plot(kind='barh', figsize=(14,8), title='Quantidade de títulos (apenas o maior)')"
   ]
  },
  {
   "cell_type": "code",
   "execution_count": 16,
   "metadata": {},
   "outputs": [],
   "source": [
    "df_formacao_dummie.columns = ['FORMACAO_' + c for c in df_formacao_dummie.columns]\n",
    "df_maior_titulacao.name = 'TITULACAO'\n",
    "data = pd.concat([data, df_formacao_dummie, df_maior_titulacao], axis=1)"
   ]
  },
  {
   "cell_type": "code",
   "execution_count": 17,
   "metadata": {},
   "outputs": [
    {
     "data": {
      "text/html": [
       "<div>\n",
       "<style scoped>\n",
       "    .dataframe tbody tr th:only-of-type {\n",
       "        vertical-align: middle;\n",
       "    }\n",
       "\n",
       "    .dataframe tbody tr th {\n",
       "        vertical-align: top;\n",
       "    }\n",
       "\n",
       "    .dataframe thead th {\n",
       "        text-align: right;\n",
       "    }\n",
       "</style>\n",
       "<table border=\"1\" class=\"dataframe\">\n",
       "  <thead>\n",
       "    <tr style=\"text-align: right;\">\n",
       "      <th></th>\n",
       "      <th>REGIAO_EXERC</th>\n",
       "      <th>DE_EXERC</th>\n",
       "      <th>CIE_ESCOLA</th>\n",
       "      <th>UA_EXERC</th>\n",
       "      <th>NOME_UA_EXERC</th>\n",
       "      <th>MUNICIPIO_EXERC</th>\n",
       "      <th>RG12</th>\n",
       "      <th>DI</th>\n",
       "      <th>CPF</th>\n",
       "      <th>NOME</th>\n",
       "      <th>QUADRO_C</th>\n",
       "      <th>CARGO_C</th>\n",
       "      <th>NM_CARGO_C</th>\n",
       "      <th>CATEG_C</th>\n",
       "      <th>DTIEXER_C</th>\n",
       "      <th>QUADRO_E</th>\n",
       "      <th>CARGO_E</th>\n",
       "      <th>NMCARGO_E</th>\n",
       "      <th>CATEG_E</th>\n",
       "      <th>FORMACAO</th>\n",
       "      <th>id_interno</th>\n",
       "      <th>FORMACAO_APERF/EXTENSIAOCULTURAL</th>\n",
       "      <th>FORMACAO_BACHARELADO/TECNIOLOGO</th>\n",
       "      <th>FORMACAO_DOUTORADO</th>\n",
       "      <th>FORMACAO_ENSINOFUNDAMENTAL</th>\n",
       "      <th>FORMACAO_ENSINOMIaDIO</th>\n",
       "      <th>FORMACAO_ESPECIALIZAIaIAO</th>\n",
       "      <th>FORMACAO_LICENCIATURA</th>\n",
       "      <th>FORMACAO_MESTRADO</th>\n",
       "      <th>FORMACAO_S/INFO</th>\n",
       "      <th>TITULACAO</th>\n",
       "    </tr>\n",
       "  </thead>\n",
       "  <tbody>\n",
       "    <tr>\n",
       "      <th>0</th>\n",
       "      <td>INTERIOR</td>\n",
       "      <td>D.E.REG. RIBEIRAO PRETO</td>\n",
       "      <td>911306</td>\n",
       "      <td>79305</td>\n",
       "      <td>EE ROSANGELA BASILE-PROFA.</td>\n",
       "      <td>RIBEIRAO PRETO</td>\n",
       "      <td>164234.0</td>\n",
       "      <td>1.0</td>\n",
       "      <td>164234.0</td>\n",
       "      <td>164234.0</td>\n",
       "      <td>QM</td>\n",
       "      <td>6407.0</td>\n",
       "      <td>PROFESSOR EDUCACAO BASICA I</td>\n",
       "      <td>O</td>\n",
       "      <td>01/06/2016</td>\n",
       "      <td>QM</td>\n",
       "      <td>6407.0</td>\n",
       "      <td>PROFESSOR EDUCACAO BASICA I</td>\n",
       "      <td>O</td>\n",
       "      <td>LICENCIATURA</td>\n",
       "      <td>164234.0</td>\n",
       "      <td>0</td>\n",
       "      <td>0</td>\n",
       "      <td>0</td>\n",
       "      <td>0</td>\n",
       "      <td>0</td>\n",
       "      <td>0</td>\n",
       "      <td>1</td>\n",
       "      <td>0</td>\n",
       "      <td>0</td>\n",
       "      <td>LICENCIATURA</td>\n",
       "    </tr>\n",
       "    <tr>\n",
       "      <th>1</th>\n",
       "      <td>INTERIOR</td>\n",
       "      <td>D.E.REG. RIBEIRAO PRETO</td>\n",
       "      <td>911306</td>\n",
       "      <td>79305</td>\n",
       "      <td>EE ROSANGELA BASILE-PROFA.</td>\n",
       "      <td>RIBEIRAO PRETO</td>\n",
       "      <td>382145.0</td>\n",
       "      <td>1.0</td>\n",
       "      <td>382145.0</td>\n",
       "      <td>382145.0</td>\n",
       "      <td>QM</td>\n",
       "      <td>6407.0</td>\n",
       "      <td>PROFESSOR EDUCACAO BASICA I</td>\n",
       "      <td>A</td>\n",
       "      <td>08/02/1993</td>\n",
       "      <td>QM</td>\n",
       "      <td>6407.0</td>\n",
       "      <td>PROFESSOR EDUCACAO BASICA I</td>\n",
       "      <td>A</td>\n",
       "      <td>LICENCIATURA + BACHARELADO/TECNIOLOGO + ESPECI...</td>\n",
       "      <td>382145.0</td>\n",
       "      <td>0</td>\n",
       "      <td>1</td>\n",
       "      <td>0</td>\n",
       "      <td>0</td>\n",
       "      <td>0</td>\n",
       "      <td>1</td>\n",
       "      <td>1</td>\n",
       "      <td>0</td>\n",
       "      <td>0</td>\n",
       "      <td>ESPECIALIZACAO</td>\n",
       "    </tr>\n",
       "    <tr>\n",
       "      <th>2</th>\n",
       "      <td>INTERIOR</td>\n",
       "      <td>D.E.REG. RIBEIRAO PRETO</td>\n",
       "      <td>911306</td>\n",
       "      <td>79305</td>\n",
       "      <td>EE ROSANGELA BASILE-PROFA.</td>\n",
       "      <td>RIBEIRAO PRETO</td>\n",
       "      <td>345349.0</td>\n",
       "      <td>1.0</td>\n",
       "      <td>345349.0</td>\n",
       "      <td>345349.0</td>\n",
       "      <td>QM</td>\n",
       "      <td>6407.0</td>\n",
       "      <td>PROFESSOR EDUCACAO BASICA I</td>\n",
       "      <td>A</td>\n",
       "      <td>18/08/1994</td>\n",
       "      <td>QM</td>\n",
       "      <td>6407.0</td>\n",
       "      <td>PROFESSOR EDUCACAO BASICA I</td>\n",
       "      <td>A</td>\n",
       "      <td>LICENCIATURA + ESPECIALIZAIaIAO</td>\n",
       "      <td>345349.0</td>\n",
       "      <td>0</td>\n",
       "      <td>0</td>\n",
       "      <td>0</td>\n",
       "      <td>0</td>\n",
       "      <td>0</td>\n",
       "      <td>1</td>\n",
       "      <td>1</td>\n",
       "      <td>0</td>\n",
       "      <td>0</td>\n",
       "      <td>ESPECIALIZACAO</td>\n",
       "    </tr>\n",
       "    <tr>\n",
       "      <th>3</th>\n",
       "      <td>INTERIOR</td>\n",
       "      <td>D.E.REG. RIBEIRAO PRETO</td>\n",
       "      <td>911306</td>\n",
       "      <td>79305</td>\n",
       "      <td>EE ROSANGELA BASILE-PROFA.</td>\n",
       "      <td>RIBEIRAO PRETO</td>\n",
       "      <td>290900.0</td>\n",
       "      <td>1.0</td>\n",
       "      <td>290900.0</td>\n",
       "      <td>290900.0</td>\n",
       "      <td>QM</td>\n",
       "      <td>6407.0</td>\n",
       "      <td>PROFESSOR EDUCACAO BASICA I</td>\n",
       "      <td>O</td>\n",
       "      <td>03/04/2017</td>\n",
       "      <td>QM</td>\n",
       "      <td>6407.0</td>\n",
       "      <td>PROFESSOR EDUCACAO BASICA I</td>\n",
       "      <td>O</td>\n",
       "      <td>LICENCIATURA</td>\n",
       "      <td>290900.0</td>\n",
       "      <td>0</td>\n",
       "      <td>0</td>\n",
       "      <td>0</td>\n",
       "      <td>0</td>\n",
       "      <td>0</td>\n",
       "      <td>0</td>\n",
       "      <td>1</td>\n",
       "      <td>0</td>\n",
       "      <td>0</td>\n",
       "      <td>LICENCIATURA</td>\n",
       "    </tr>\n",
       "    <tr>\n",
       "      <th>4</th>\n",
       "      <td>INTERIOR</td>\n",
       "      <td>D.E.REG. RIBEIRAO PRETO</td>\n",
       "      <td>911306</td>\n",
       "      <td>79305</td>\n",
       "      <td>EE ROSANGELA BASILE-PROFA.</td>\n",
       "      <td>RIBEIRAO PRETO</td>\n",
       "      <td>316060.0</td>\n",
       "      <td>1.0</td>\n",
       "      <td>316060.0</td>\n",
       "      <td>316060.0</td>\n",
       "      <td>QM</td>\n",
       "      <td>6407.0</td>\n",
       "      <td>PROFESSOR EDUCACAO BASICA I</td>\n",
       "      <td>O</td>\n",
       "      <td>04/06/2018</td>\n",
       "      <td>QM</td>\n",
       "      <td>6407.0</td>\n",
       "      <td>PROFESSOR EDUCACAO BASICA I</td>\n",
       "      <td>O</td>\n",
       "      <td>LICENCIATURA</td>\n",
       "      <td>316060.0</td>\n",
       "      <td>0</td>\n",
       "      <td>0</td>\n",
       "      <td>0</td>\n",
       "      <td>0</td>\n",
       "      <td>0</td>\n",
       "      <td>0</td>\n",
       "      <td>1</td>\n",
       "      <td>0</td>\n",
       "      <td>0</td>\n",
       "      <td>LICENCIATURA</td>\n",
       "    </tr>\n",
       "  </tbody>\n",
       "</table>\n",
       "</div>"
      ],
      "text/plain": [
       "  REGIAO_EXERC                 DE_EXERC  CIE_ESCOLA  UA_EXERC  \\\n",
       "0     INTERIOR  D.E.REG. RIBEIRAO PRETO      911306     79305   \n",
       "1     INTERIOR  D.E.REG. RIBEIRAO PRETO      911306     79305   \n",
       "2     INTERIOR  D.E.REG. RIBEIRAO PRETO      911306     79305   \n",
       "3     INTERIOR  D.E.REG. RIBEIRAO PRETO      911306     79305   \n",
       "4     INTERIOR  D.E.REG. RIBEIRAO PRETO      911306     79305   \n",
       "\n",
       "                   NOME_UA_EXERC                          MUNICIPIO_EXERC  \\\n",
       "0  EE ROSANGELA BASILE-PROFA.     RIBEIRAO PRETO                            \n",
       "1  EE ROSANGELA BASILE-PROFA.     RIBEIRAO PRETO                            \n",
       "2  EE ROSANGELA BASILE-PROFA.     RIBEIRAO PRETO                            \n",
       "3  EE ROSANGELA BASILE-PROFA.     RIBEIRAO PRETO                            \n",
       "4  EE ROSANGELA BASILE-PROFA.     RIBEIRAO PRETO                            \n",
       "\n",
       "       RG12   DI       CPF      NOME QUADRO_C  CARGO_C  \\\n",
       "0  164234.0  1.0  164234.0  164234.0       QM   6407.0   \n",
       "1  382145.0  1.0  382145.0  382145.0       QM   6407.0   \n",
       "2  345349.0  1.0  345349.0  345349.0       QM   6407.0   \n",
       "3  290900.0  1.0  290900.0  290900.0       QM   6407.0   \n",
       "4  316060.0  1.0  316060.0  316060.0       QM   6407.0   \n",
       "\n",
       "                    NM_CARGO_C CATEG_C   DTIEXER_C QUADRO_E  CARGO_E  \\\n",
       "0  PROFESSOR EDUCACAO BASICA I       O  01/06/2016       QM   6407.0   \n",
       "1  PROFESSOR EDUCACAO BASICA I       A  08/02/1993       QM   6407.0   \n",
       "2  PROFESSOR EDUCACAO BASICA I       A  18/08/1994       QM   6407.0   \n",
       "3  PROFESSOR EDUCACAO BASICA I       O  03/04/2017       QM   6407.0   \n",
       "4  PROFESSOR EDUCACAO BASICA I       O  04/06/2018       QM   6407.0   \n",
       "\n",
       "                     NMCARGO_E CATEG_E  \\\n",
       "0  PROFESSOR EDUCACAO BASICA I       O   \n",
       "1  PROFESSOR EDUCACAO BASICA I       A   \n",
       "2  PROFESSOR EDUCACAO BASICA I       A   \n",
       "3  PROFESSOR EDUCACAO BASICA I       O   \n",
       "4  PROFESSOR EDUCACAO BASICA I       O   \n",
       "\n",
       "                                            FORMACAO  id_interno  \\\n",
       "0                                       LICENCIATURA    164234.0   \n",
       "1  LICENCIATURA + BACHARELADO/TECNIOLOGO + ESPECI...    382145.0   \n",
       "2                    LICENCIATURA + ESPECIALIZAIaIAO    345349.0   \n",
       "3                                       LICENCIATURA    290900.0   \n",
       "4                                       LICENCIATURA    316060.0   \n",
       "\n",
       "   FORMACAO_APERF/EXTENSIAOCULTURAL  FORMACAO_BACHARELADO/TECNIOLOGO  \\\n",
       "0                                 0                                0   \n",
       "1                                 0                                1   \n",
       "2                                 0                                0   \n",
       "3                                 0                                0   \n",
       "4                                 0                                0   \n",
       "\n",
       "   FORMACAO_DOUTORADO  FORMACAO_ENSINOFUNDAMENTAL  FORMACAO_ENSINOMIaDIO  \\\n",
       "0                   0                           0                      0   \n",
       "1                   0                           0                      0   \n",
       "2                   0                           0                      0   \n",
       "3                   0                           0                      0   \n",
       "4                   0                           0                      0   \n",
       "\n",
       "   FORMACAO_ESPECIALIZAIaIAO  FORMACAO_LICENCIATURA  FORMACAO_MESTRADO  \\\n",
       "0                          0                      1                  0   \n",
       "1                          1                      1                  0   \n",
       "2                          1                      1                  0   \n",
       "3                          0                      1                  0   \n",
       "4                          0                      1                  0   \n",
       "\n",
       "   FORMACAO_S/INFO       TITULACAO  \n",
       "0                0    LICENCIATURA  \n",
       "1                0  ESPECIALIZACAO  \n",
       "2                0  ESPECIALIZACAO  \n",
       "3                0    LICENCIATURA  \n",
       "4                0    LICENCIATURA  "
      ]
     },
     "execution_count": 17,
     "metadata": {},
     "output_type": "execute_result"
    }
   ],
   "source": [
    "data.head()"
   ]
  },
  {
   "cell_type": "markdown",
   "metadata": {},
   "source": [
    "### Distribuição das titulações dos servidores"
   ]
  },
  {
   "cell_type": "code",
   "execution_count": 18,
   "metadata": {},
   "outputs": [
    {
     "data": {
      "text/plain": [
       "LICENCIATURA               67.670139\n",
       "ENSINO_MEDIO               11.550538\n",
       "BACHARELADO/TECNIOLOGO      8.543031\n",
       "ESPECIALIZACAO              7.638534\n",
       "MESTRADO                    2.693115\n",
       "ENSINO_FUNDAMENTAL          0.891606\n",
       "S/INFO                      0.631693\n",
       "DOUTORADO                   0.359304\n",
       "APERF/EXTENSIAOCULTURAL     0.022041\n",
       "Name: TITULACAO, dtype: float64"
      ]
     },
     "execution_count": 18,
     "metadata": {},
     "output_type": "execute_result"
    }
   ],
   "source": [
    "data['TITULACAO'].value_counts(normalize=True) * 100"
   ]
  },
  {
   "cell_type": "markdown",
   "metadata": {},
   "source": [
    "### Distribuição de acordo com o cargo dos servidores"
   ]
  },
  {
   "cell_type": "code",
   "execution_count": 19,
   "metadata": {},
   "outputs": [
    {
     "data": {
      "text/plain": [
       "QM     197430\n",
       "QAE     38607\n",
       "QSE      4402\n",
       "Name: QUADRO_C, dtype: int64"
      ]
     },
     "execution_count": 19,
     "metadata": {},
     "output_type": "execute_result"
    }
   ],
   "source": [
    "data['QUADRO_C'].value_counts()"
   ]
  },
  {
   "cell_type": "markdown",
   "metadata": {},
   "source": [
    "### Disitribuição das titulações dos servidores apenas do quadro QM (Magistério)"
   ]
  },
  {
   "cell_type": "code",
   "execution_count": 20,
   "metadata": {},
   "outputs": [
    {
     "data": {
      "text/plain": [
       "LICENCIATURA               79.407891\n",
       "ESPECIALIZACAO              9.031555\n",
       "BACHARELADO/TECNIOLOGO      6.388087\n",
       "MESTRADO                    3.260903\n",
       "ENSINO_MEDIO                1.459251\n",
       "DOUTORADO                   0.434078\n",
       "S/INFO                      0.017221\n",
       "APERF/EXTENSIAOCULTURAL     0.001013\n",
       "Name: TITULACAO, dtype: float64"
      ]
     },
     "execution_count": 20,
     "metadata": {},
     "output_type": "execute_result"
    }
   ],
   "source": [
    "data[data['QUADRO_C'] == 'QM']['TITULACAO'].value_counts(normalize=True) * 100"
   ]
  },
  {
   "cell_type": "markdown",
   "metadata": {},
   "source": [
    "## Exportar dados"
   ]
  },
  {
   "cell_type": "code",
   "execution_count": 43,
   "metadata": {},
   "outputs": [],
   "source": [
    "data.to_csv('../data/processed/formacao_servidores.csv', index=False)"
   ]
  },
  {
   "cell_type": "code",
   "execution_count": null,
   "metadata": {},
   "outputs": [],
   "source": []
  },
  {
   "cell_type": "code",
   "execution_count": 111,
   "metadata": {},
   "outputs": [],
   "source": [
    "# fig, axs = plt.subplots(1,2, figsize=(14,7))\n",
    "# dataset[dataset['DESEMPENHO_ESC'] == 1]['MESTRADO'].hist(bins=30, cumulative=True, ax=axs[0], color='red', alpha=0.5)\n",
    "# dataset[dataset['DESEMPENHO_ESC'] == 0]['MESTRADO'].hist(bins=30, cumulative=True, ax=axs[1], color='green', alpha=0.5)\n",
    "# plt.tight_layout()"
   ]
  },
  {
   "cell_type": "code",
   "execution_count": 79,
   "metadata": {},
   "outputs": [
    {
     "data": {
      "image/png": "[encoded data removed]",
      "text/plain": [
       "<Figure size 1008x504 with 2 Axes>"
      ]
     },
     "metadata": {
      "needs_background": "light"
     },
     "output_type": "display_data"
    }
   ],
   "source": [
    "fig, axs = plt.subplots(1,2, figsize=(14,7))\n",
    "dataset[dataset['DESEMPENHO_ESC'] == 1]['BACHARELADO/TECNIOLOGO'].plot(kind='kde', ax=axs[0], color='red')\n",
    "dataset[dataset['DESEMPENHO_ESC'] == 0]['BACHARELADO/TECNIOLOGO'].plot(kind='kde', ax=axs[0], color='green')\n",
    "plt.tight_layout()"
   ]
  },
  {
   "cell_type": "code",
   "execution_count": 122,
   "metadata": {},
   "outputs": [
    {
     "data": {
      "image/png": "[encoded data removed]",
      "text/plain": [
       "<Figure size 1008x504 with 2 Axes>"
      ]
     },
     "metadata": {
      "needs_background": "light"
     },
     "output_type": "display_data"
    }
   ],
   "source": [
    "fig, axs = plt.subplots(1,2, figsize=(14,7))\n",
    "dataset[dataset['DESEMPENHO_ESC'] == 0]['ENSINO_MEDIO'].plot(kind='kde', ax=axs[0], color='red')\n",
    "dataset[dataset['DESEMPENHO_ESC'] == 1]['ENSINO_MEDIO'].plot(kind='kde', ax=axs[0], color='green')\n",
    "plt.tight_layout()"
   ]
  },
  {
   "cell_type": "code",
   "execution_count": 116,
   "metadata": {},
   "outputs": [],
   "source": [
    "dataset['DOUTORADO_BIN'] = 0\n",
    "dataset.loc[dataset['DOUTORADO'] > 0, 'DOUTORADO_BIN'] = 1\n",
    "\n",
    "dataset['MESTRADO_BIN'] = 0\n",
    "dataset.loc[dataset['MESTRADO'] > 0, 'MESTRADO_BIN'] = 1\n",
    "\n",
    "dataset['ESPECIALIZACAO_BIN'] = 0\n",
    "dataset.loc[dataset['ESPECIALIZACAO'] > 0, 'ESPECIALIZACAO_BIN'] = 1"
   ]
  },
  {
   "cell_type": "code",
   "execution_count": 31,
   "metadata": {},
   "outputs": [
    {
     "data": {
      "text/html": [
       "<div>\n",
       "<style scoped>\n",
       "    .dataframe tbody tr th:only-of-type {\n",
       "        vertical-align: middle;\n",
       "    }\n",
       "\n",
       "    .dataframe tbody tr th {\n",
       "        vertical-align: top;\n",
       "    }\n",
       "\n",
       "    .dataframe thead th {\n",
       "        text-align: right;\n",
       "    }\n",
       "</style>\n",
       "<table border=\"1\" class=\"dataframe\">\n",
       "  <thead>\n",
       "    <tr style=\"text-align: right;\">\n",
       "      <th>DOUTORADO_BIN</th>\n",
       "      <th>0</th>\n",
       "      <th>1</th>\n",
       "    </tr>\n",
       "    <tr>\n",
       "      <th>DESEMPENHO</th>\n",
       "      <th></th>\n",
       "      <th></th>\n",
       "    </tr>\n",
       "  </thead>\n",
       "  <tbody>\n",
       "    <tr>\n",
       "      <th>BOM</th>\n",
       "      <td>98.556430</td>\n",
       "      <td>1.443570</td>\n",
       "    </tr>\n",
       "    <tr>\n",
       "      <th>RUIM</th>\n",
       "      <td>99.568966</td>\n",
       "      <td>0.431034</td>\n",
       "    </tr>\n",
       "  </tbody>\n",
       "</table>\n",
       "</div>"
      ],
      "text/plain": [
       "DOUTORADO_BIN          0         1\n",
       "DESEMPENHO                        \n",
       "BOM            98.556430  1.443570\n",
       "RUIM           99.568966  0.431034"
      ]
     },
     "execution_count": 31,
     "metadata": {},
     "output_type": "execute_result"
    }
   ],
   "source": [
    "dataset.groupby(['DESEMPENHO'])['DOUTORADO_BIN'].value_counts(normalize=True).unstack() * 100"
   ]
  },
  {
   "cell_type": "code",
   "execution_count": 32,
   "metadata": {},
   "outputs": [
    {
     "data": {
      "text/html": [
       "<div>\n",
       "<style scoped>\n",
       "    .dataframe tbody tr th:only-of-type {\n",
       "        vertical-align: middle;\n",
       "    }\n",
       "\n",
       "    .dataframe tbody tr th {\n",
       "        vertical-align: top;\n",
       "    }\n",
       "\n",
       "    .dataframe thead th {\n",
       "        text-align: right;\n",
       "    }\n",
       "</style>\n",
       "<table border=\"1\" class=\"dataframe\">\n",
       "  <thead>\n",
       "    <tr style=\"text-align: right;\">\n",
       "      <th>MESTRADO_BIN</th>\n",
       "      <th>0</th>\n",
       "      <th>1</th>\n",
       "    </tr>\n",
       "    <tr>\n",
       "      <th>DESEMPENHO</th>\n",
       "      <th></th>\n",
       "      <th></th>\n",
       "    </tr>\n",
       "  </thead>\n",
       "  <tbody>\n",
       "    <tr>\n",
       "      <th>BOM</th>\n",
       "      <td>89.763780</td>\n",
       "      <td>10.236220</td>\n",
       "    </tr>\n",
       "    <tr>\n",
       "      <th>RUIM</th>\n",
       "      <td>93.247126</td>\n",
       "      <td>6.752874</td>\n",
       "    </tr>\n",
       "  </tbody>\n",
       "</table>\n",
       "</div>"
      ],
      "text/plain": [
       "MESTRADO_BIN          0          1\n",
       "DESEMPENHO                        \n",
       "BOM           89.763780  10.236220\n",
       "RUIM          93.247126   6.752874"
      ]
     },
     "execution_count": 32,
     "metadata": {},
     "output_type": "execute_result"
    }
   ],
   "source": [
    "dataset.groupby(['DESEMPENHO'])['MESTRADO_BIN'].value_counts(normalize=True).unstack() * 100"
   ]
  },
  {
   "cell_type": "code",
   "execution_count": 33,
   "metadata": {},
   "outputs": [
    {
     "data": {
      "text/html": [
       "<div>\n",
       "<style scoped>\n",
       "    .dataframe tbody tr th:only-of-type {\n",
       "        vertical-align: middle;\n",
       "    }\n",
       "\n",
       "    .dataframe tbody tr th {\n",
       "        vertical-align: top;\n",
       "    }\n",
       "\n",
       "    .dataframe thead th {\n",
       "        text-align: right;\n",
       "    }\n",
       "</style>\n",
       "<table border=\"1\" class=\"dataframe\">\n",
       "  <thead>\n",
       "    <tr style=\"text-align: right;\">\n",
       "      <th>ESPECIALIZACAO_BIN</th>\n",
       "      <th>0</th>\n",
       "      <th>1</th>\n",
       "    </tr>\n",
       "    <tr>\n",
       "      <th>DESEMPENHO</th>\n",
       "      <th></th>\n",
       "      <th></th>\n",
       "    </tr>\n",
       "  </thead>\n",
       "  <tbody>\n",
       "    <tr>\n",
       "      <th>BOM</th>\n",
       "      <td>20.341207</td>\n",
       "      <td>79.658793</td>\n",
       "    </tr>\n",
       "    <tr>\n",
       "      <th>RUIM</th>\n",
       "      <td>30.459770</td>\n",
       "      <td>69.540230</td>\n",
       "    </tr>\n",
       "  </tbody>\n",
       "</table>\n",
       "</div>"
      ],
      "text/plain": [
       "ESPECIALIZACAO_BIN          0          1\n",
       "DESEMPENHO                              \n",
       "BOM                 20.341207  79.658793\n",
       "RUIM                30.459770  69.540230"
      ]
     },
     "execution_count": 33,
     "metadata": {},
     "output_type": "execute_result"
    }
   ],
   "source": [
    "dataset.groupby(['DESEMPENHO'])['ESPECIALIZACAO_BIN'].value_counts(normalize=True).unstack() * 100"
   ]
  }
 ],
 "metadata": {
  "kernelspec": {
   "display_name": "Python 3",
   "language": "python",
   "name": "python3"
  },
  "language_info": {
   "codemirror_mode": {
    "name": "ipython",
    "version": 3
   },
   "file_extension": ".py",
   "mimetype": "text/x-python",
   "name": "python",
   "nbconvert_exporter": "python",
   "pygments_lexer": "ipython3",
   "version": "3.7.3"
  }
 },
 "nbformat": 4,
 "nbformat_minor": 4
}
