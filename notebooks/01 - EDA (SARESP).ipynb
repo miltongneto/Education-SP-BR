{
 "cells": [
  {
   "cell_type": "markdown",
   "metadata": {},
   "source": [
    "# Exploratory Data Analysis - SARESP\n",
    "*Sistema de Avaliação de Rendimento Escolar do Estado de São Paulo (SARESP)*"
   ]
  },
  {
   "cell_type": "markdown",
   "metadata": {},
   "source": [
    "#### Imports"
   ]
  },
  {
   "cell_type": "code",
   "execution_count": 1,
   "metadata": {},
   "outputs": [],
   "source": [
    "import pandas as pd\n",
    "import os\n",
    "import matplotlib.pyplot as plt\n",
    "import seaborn as sns\n",
    "import numpy as np\n",
    "from IPython.display import Image"
   ]
  },
  {
   "cell_type": "markdown",
   "metadata": {},
   "source": [
    "### Load data"
   ]
  },
  {
   "cell_type": "code",
   "execution_count": 2,
   "metadata": {},
   "outputs": [],
   "source": [
    "PATH = '../data/raw'"
   ]
  },
  {
   "cell_type": "code",
   "execution_count": 3,
   "metadata": {},
   "outputs": [
    {
     "name": "stdout",
     "output_type": "stream",
     "text": [
      "(20382, 12)\n"
     ]
    },
    {
     "data": {
      "text/html": [
       "<div>\n",
       "<style scoped>\n",
       "    .dataframe tbody tr th:only-of-type {\n",
       "        vertical-align: middle;\n",
       "    }\n",
       "\n",
       "    .dataframe tbody tr th {\n",
       "        vertical-align: top;\n",
       "    }\n",
       "\n",
       "    .dataframe thead th {\n",
       "        text-align: right;\n",
       "    }\n",
       "</style>\n",
       "<table border=\"1\" class=\"dataframe\">\n",
       "  <thead>\n",
       "    <tr style=\"text-align: right;\">\n",
       "      <th></th>\n",
       "      <th>DEPADM</th>\n",
       "      <th>DepBol</th>\n",
       "      <th>NomeDepBol</th>\n",
       "      <th>codRMet</th>\n",
       "      <th>CODESC</th>\n",
       "      <th>NOMESC</th>\n",
       "      <th>SERIE_ANO</th>\n",
       "      <th>cod_per</th>\n",
       "      <th>periodo</th>\n",
       "      <th>co_comp</th>\n",
       "      <th>ds_comp</th>\n",
       "      <th>medprof</th>\n",
       "    </tr>\n",
       "  </thead>\n",
       "  <tbody>\n",
       "    <tr>\n",
       "      <th>0</th>\n",
       "      <td>1</td>\n",
       "      <td>1</td>\n",
       "      <td>Rede Estadual</td>\n",
       "      <td>1</td>\n",
       "      <td>12</td>\n",
       "      <td>AYRES DE MOURA PROFESSOR</td>\n",
       "      <td>9º Ano EF</td>\n",
       "      <td>9</td>\n",
       "      <td>GERAL</td>\n",
       "      <td>1</td>\n",
       "      <td>LÍNGUA PORTUGUESA</td>\n",
       "      <td>263.1</td>\n",
       "    </tr>\n",
       "    <tr>\n",
       "      <th>1</th>\n",
       "      <td>1</td>\n",
       "      <td>1</td>\n",
       "      <td>Rede Estadual</td>\n",
       "      <td>1</td>\n",
       "      <td>12</td>\n",
       "      <td>AYRES DE MOURA PROFESSOR</td>\n",
       "      <td>9º Ano EF</td>\n",
       "      <td>9</td>\n",
       "      <td>GERAL</td>\n",
       "      <td>2</td>\n",
       "      <td>MATEMÁTICA</td>\n",
       "      <td>272.3</td>\n",
       "    </tr>\n",
       "    <tr>\n",
       "      <th>2</th>\n",
       "      <td>1</td>\n",
       "      <td>1</td>\n",
       "      <td>Rede Estadual</td>\n",
       "      <td>1</td>\n",
       "      <td>24</td>\n",
       "      <td>GAVIAO PEIXOTO BRIGADEIRO</td>\n",
       "      <td>3º Ano EF</td>\n",
       "      <td>9</td>\n",
       "      <td>GERAL</td>\n",
       "      <td>1</td>\n",
       "      <td>LÍNGUA PORTUGUESA</td>\n",
       "      <td>170.4</td>\n",
       "    </tr>\n",
       "    <tr>\n",
       "      <th>3</th>\n",
       "      <td>1</td>\n",
       "      <td>1</td>\n",
       "      <td>Rede Estadual</td>\n",
       "      <td>1</td>\n",
       "      <td>24</td>\n",
       "      <td>GAVIAO PEIXOTO BRIGADEIRO</td>\n",
       "      <td>3º Ano EF</td>\n",
       "      <td>9</td>\n",
       "      <td>GERAL</td>\n",
       "      <td>2</td>\n",
       "      <td>MATEMÁTICA</td>\n",
       "      <td>181.5</td>\n",
       "    </tr>\n",
       "    <tr>\n",
       "      <th>4</th>\n",
       "      <td>1</td>\n",
       "      <td>1</td>\n",
       "      <td>Rede Estadual</td>\n",
       "      <td>1</td>\n",
       "      <td>24</td>\n",
       "      <td>GAVIAO PEIXOTO BRIGADEIRO</td>\n",
       "      <td>5º Ano EF</td>\n",
       "      <td>9</td>\n",
       "      <td>GERAL</td>\n",
       "      <td>1</td>\n",
       "      <td>LÍNGUA PORTUGUESA</td>\n",
       "      <td>207.9</td>\n",
       "    </tr>\n",
       "  </tbody>\n",
       "</table>\n",
       "</div>"
      ],
      "text/plain": [
       "   DEPADM  DepBol     NomeDepBol  codRMet  CODESC                     NOMESC  \\\n",
       "0       1       1  Rede Estadual        1      12   AYRES DE MOURA PROFESSOR   \n",
       "1       1       1  Rede Estadual        1      12   AYRES DE MOURA PROFESSOR   \n",
       "2       1       1  Rede Estadual        1      24  GAVIAO PEIXOTO BRIGADEIRO   \n",
       "3       1       1  Rede Estadual        1      24  GAVIAO PEIXOTO BRIGADEIRO   \n",
       "4       1       1  Rede Estadual        1      24  GAVIAO PEIXOTO BRIGADEIRO   \n",
       "\n",
       "   SERIE_ANO  cod_per periodo  co_comp            ds_comp  medprof  \n",
       "0  9º Ano EF        9   GERAL        1  LÍNGUA PORTUGUESA    263.1  \n",
       "1  9º Ano EF        9   GERAL        2         MATEMÁTICA    272.3  \n",
       "2  3º Ano EF        9   GERAL        1  LÍNGUA PORTUGUESA    170.4  \n",
       "3  3º Ano EF        9   GERAL        2         MATEMÁTICA    181.5  \n",
       "4  5º Ano EF        9   GERAL        1  LÍNGUA PORTUGUESA    207.9  "
      ]
     },
     "execution_count": 3,
     "metadata": {},
     "output_type": "execute_result"
    }
   ],
   "source": [
    "data = pd.read_csv(os.path.join(PATH, 'SARESP_escolas_2018.csv'), sep=';', encoding='latin-1', decimal=',')\n",
    "print(data.shape)\n",
    "data.head()"
   ]
  },
  {
   "cell_type": "markdown",
   "metadata": {},
   "source": [
    "## Estatísticas básicas"
   ]
  },
  {
   "cell_type": "code",
   "execution_count": 4,
   "metadata": {},
   "outputs": [
    {
     "data": {
      "text/html": [
       "<div>\n",
       "<style scoped>\n",
       "    .dataframe tbody tr th:only-of-type {\n",
       "        vertical-align: middle;\n",
       "    }\n",
       "\n",
       "    .dataframe tbody tr th {\n",
       "        vertical-align: top;\n",
       "    }\n",
       "\n",
       "    .dataframe thead th {\n",
       "        text-align: right;\n",
       "    }\n",
       "</style>\n",
       "<table border=\"1\" class=\"dataframe\">\n",
       "  <thead>\n",
       "    <tr style=\"text-align: right;\">\n",
       "      <th></th>\n",
       "      <th>DEPADM</th>\n",
       "      <th>DepBol</th>\n",
       "      <th>codRMet</th>\n",
       "      <th>CODESC</th>\n",
       "      <th>cod_per</th>\n",
       "      <th>co_comp</th>\n",
       "      <th>medprof</th>\n",
       "    </tr>\n",
       "  </thead>\n",
       "  <tbody>\n",
       "    <tr>\n",
       "      <th>count</th>\n",
       "      <td>20382.0</td>\n",
       "      <td>20382.0</td>\n",
       "      <td>20382.000000</td>\n",
       "      <td>20382.000000</td>\n",
       "      <td>20382.0</td>\n",
       "      <td>20382.000000</td>\n",
       "      <td>20378.000000</td>\n",
       "    </tr>\n",
       "    <tr>\n",
       "      <th>mean</th>\n",
       "      <td>1.0</td>\n",
       "      <td>1.0</td>\n",
       "      <td>2.995879</td>\n",
       "      <td>288287.812678</td>\n",
       "      <td>9.0</td>\n",
       "      <td>1.500000</td>\n",
       "      <td>251.166876</td>\n",
       "    </tr>\n",
       "    <tr>\n",
       "      <th>std</th>\n",
       "      <td>0.0</td>\n",
       "      <td>0.0</td>\n",
       "      <td>2.018117</td>\n",
       "      <td>396040.329375</td>\n",
       "      <td>0.0</td>\n",
       "      <td>0.500012</td>\n",
       "      <td>32.044926</td>\n",
       "    </tr>\n",
       "    <tr>\n",
       "      <th>min</th>\n",
       "      <td>1.0</td>\n",
       "      <td>1.0</td>\n",
       "      <td>1.000000</td>\n",
       "      <td>12.000000</td>\n",
       "      <td>9.0</td>\n",
       "      <td>1.000000</td>\n",
       "      <td>140.600000</td>\n",
       "    </tr>\n",
       "    <tr>\n",
       "      <th>25%</th>\n",
       "      <td>1.0</td>\n",
       "      <td>1.0</td>\n",
       "      <td>1.000000</td>\n",
       "      <td>16592.500000</td>\n",
       "      <td>9.0</td>\n",
       "      <td>1.000000</td>\n",
       "      <td>231.900000</td>\n",
       "    </tr>\n",
       "    <tr>\n",
       "      <th>50%</th>\n",
       "      <td>1.0</td>\n",
       "      <td>1.0</td>\n",
       "      <td>3.000000</td>\n",
       "      <td>37060.000000</td>\n",
       "      <td>9.0</td>\n",
       "      <td>1.500000</td>\n",
       "      <td>254.950000</td>\n",
       "    </tr>\n",
       "    <tr>\n",
       "      <th>75%</th>\n",
       "      <td>1.0</td>\n",
       "      <td>1.0</td>\n",
       "      <td>5.000000</td>\n",
       "      <td>902080.750000</td>\n",
       "      <td>9.0</td>\n",
       "      <td>2.000000</td>\n",
       "      <td>274.400000</td>\n",
       "    </tr>\n",
       "    <tr>\n",
       "      <th>max</th>\n",
       "      <td>1.0</td>\n",
       "      <td>1.0</td>\n",
       "      <td>7.000000</td>\n",
       "      <td>926103.000000</td>\n",
       "      <td>9.0</td>\n",
       "      <td>2.000000</td>\n",
       "      <td>362.200000</td>\n",
       "    </tr>\n",
       "  </tbody>\n",
       "</table>\n",
       "</div>"
      ],
      "text/plain": [
       "        DEPADM   DepBol       codRMet         CODESC  cod_per       co_comp  \\\n",
       "count  20382.0  20382.0  20382.000000   20382.000000  20382.0  20382.000000   \n",
       "mean       1.0      1.0      2.995879  288287.812678      9.0      1.500000   \n",
       "std        0.0      0.0      2.018117  396040.329375      0.0      0.500012   \n",
       "min        1.0      1.0      1.000000      12.000000      9.0      1.000000   \n",
       "25%        1.0      1.0      1.000000   16592.500000      9.0      1.000000   \n",
       "50%        1.0      1.0      3.000000   37060.000000      9.0      1.500000   \n",
       "75%        1.0      1.0      5.000000  902080.750000      9.0      2.000000   \n",
       "max        1.0      1.0      7.000000  926103.000000      9.0      2.000000   \n",
       "\n",
       "            medprof  \n",
       "count  20378.000000  \n",
       "mean     251.166876  \n",
       "std       32.044926  \n",
       "min      140.600000  \n",
       "25%      231.900000  \n",
       "50%      254.950000  \n",
       "75%      274.400000  \n",
       "max      362.200000  "
      ]
     },
     "execution_count": 4,
     "metadata": {},
     "output_type": "execute_result"
    }
   ],
   "source": [
    "data.describe()"
   ]
  },
  {
   "cell_type": "code",
   "execution_count": 5,
   "metadata": {},
   "outputs": [
    {
     "data": {
      "text/html": [
       "<div>\n",
       "<style scoped>\n",
       "    .dataframe tbody tr th:only-of-type {\n",
       "        vertical-align: middle;\n",
       "    }\n",
       "\n",
       "    .dataframe tbody tr th {\n",
       "        vertical-align: top;\n",
       "    }\n",
       "\n",
       "    .dataframe thead th {\n",
       "        text-align: right;\n",
       "    }\n",
       "</style>\n",
       "<table border=\"1\" class=\"dataframe\">\n",
       "  <thead>\n",
       "    <tr style=\"text-align: right;\">\n",
       "      <th></th>\n",
       "      <th>NomeDepBol</th>\n",
       "      <th>NOMESC</th>\n",
       "      <th>SERIE_ANO</th>\n",
       "      <th>periodo</th>\n",
       "      <th>ds_comp</th>\n",
       "    </tr>\n",
       "  </thead>\n",
       "  <tbody>\n",
       "    <tr>\n",
       "      <th>count</th>\n",
       "      <td>20382</td>\n",
       "      <td>20382</td>\n",
       "      <td>20382</td>\n",
       "      <td>20382</td>\n",
       "      <td>20382</td>\n",
       "    </tr>\n",
       "    <tr>\n",
       "      <th>unique</th>\n",
       "      <td>1</td>\n",
       "      <td>5024</td>\n",
       "      <td>4</td>\n",
       "      <td>1</td>\n",
       "      <td>2</td>\n",
       "    </tr>\n",
       "    <tr>\n",
       "      <th>top</th>\n",
       "      <td>Rede Estadual</td>\n",
       "      <td>ANCHIETA PADRE</td>\n",
       "      <td>EM-3ª série</td>\n",
       "      <td>GERAL</td>\n",
       "      <td>MATEMÁTICA</td>\n",
       "    </tr>\n",
       "    <tr>\n",
       "      <th>freq</th>\n",
       "      <td>20382</td>\n",
       "      <td>16</td>\n",
       "      <td>7338</td>\n",
       "      <td>20382</td>\n",
       "      <td>10191</td>\n",
       "    </tr>\n",
       "  </tbody>\n",
       "</table>\n",
       "</div>"
      ],
      "text/plain": [
       "           NomeDepBol          NOMESC    SERIE_ANO periodo     ds_comp\n",
       "count           20382           20382        20382   20382       20382\n",
       "unique              1            5024            4       1           2\n",
       "top     Rede Estadual  ANCHIETA PADRE  EM-3ª série   GERAL  MATEMÁTICA\n",
       "freq            20382              16         7338   20382       10191"
      ]
     },
     "execution_count": 5,
     "metadata": {},
     "output_type": "execute_result"
    }
   ],
   "source": [
    "data.select_dtypes('object').describe()"
   ]
  },
  {
   "cell_type": "markdown",
   "metadata": {},
   "source": [
    "## Missing values"
   ]
  },
  {
   "cell_type": "code",
   "execution_count": 6,
   "metadata": {},
   "outputs": [
    {
     "data": {
      "text/plain": [
       "DEPADM        0\n",
       "DepBol        0\n",
       "NomeDepBol    0\n",
       "codRMet       0\n",
       "CODESC        0\n",
       "NOMESC        0\n",
       "SERIE_ANO     0\n",
       "cod_per       0\n",
       "periodo       0\n",
       "co_comp       0\n",
       "ds_comp       0\n",
       "medprof       4\n",
       "dtype: int64"
      ]
     },
     "execution_count": 6,
     "metadata": {},
     "output_type": "execute_result"
    }
   ],
   "source": [
    "data.isnull().sum()"
   ]
  },
  {
   "cell_type": "markdown",
   "metadata": {},
   "source": [
    "#### Filtering data with missing values"
   ]
  },
  {
   "cell_type": "code",
   "execution_count": 7,
   "metadata": {},
   "outputs": [
    {
     "data": {
      "text/html": [
       "<div>\n",
       "<style scoped>\n",
       "    .dataframe tbody tr th:only-of-type {\n",
       "        vertical-align: middle;\n",
       "    }\n",
       "\n",
       "    .dataframe tbody tr th {\n",
       "        vertical-align: top;\n",
       "    }\n",
       "\n",
       "    .dataframe thead th {\n",
       "        text-align: right;\n",
       "    }\n",
       "</style>\n",
       "<table border=\"1\" class=\"dataframe\">\n",
       "  <thead>\n",
       "    <tr style=\"text-align: right;\">\n",
       "      <th></th>\n",
       "      <th>DEPADM</th>\n",
       "      <th>DepBol</th>\n",
       "      <th>NomeDepBol</th>\n",
       "      <th>codRMet</th>\n",
       "      <th>CODESC</th>\n",
       "      <th>NOMESC</th>\n",
       "      <th>SERIE_ANO</th>\n",
       "      <th>cod_per</th>\n",
       "      <th>periodo</th>\n",
       "      <th>co_comp</th>\n",
       "      <th>ds_comp</th>\n",
       "      <th>medprof</th>\n",
       "    </tr>\n",
       "  </thead>\n",
       "  <tbody>\n",
       "    <tr>\n",
       "      <th>14078</th>\n",
       "      <td>1</td>\n",
       "      <td>1</td>\n",
       "      <td>Rede Estadual</td>\n",
       "      <td>4</td>\n",
       "      <td>351064</td>\n",
       "      <td>SONIA MARIA ALEXANDRE PEREIRA PROFESSORA</td>\n",
       "      <td>9º Ano EF</td>\n",
       "      <td>9</td>\n",
       "      <td>GERAL</td>\n",
       "      <td>1</td>\n",
       "      <td>LÍNGUA PORTUGUESA</td>\n",
       "      <td>NaN</td>\n",
       "    </tr>\n",
       "    <tr>\n",
       "      <th>14079</th>\n",
       "      <td>1</td>\n",
       "      <td>1</td>\n",
       "      <td>Rede Estadual</td>\n",
       "      <td>4</td>\n",
       "      <td>351064</td>\n",
       "      <td>SONIA MARIA ALEXANDRE PEREIRA PROFESSORA</td>\n",
       "      <td>9º Ano EF</td>\n",
       "      <td>9</td>\n",
       "      <td>GERAL</td>\n",
       "      <td>2</td>\n",
       "      <td>MATEMÁTICA</td>\n",
       "      <td>NaN</td>\n",
       "    </tr>\n",
       "    <tr>\n",
       "      <th>14080</th>\n",
       "      <td>1</td>\n",
       "      <td>1</td>\n",
       "      <td>Rede Estadual</td>\n",
       "      <td>4</td>\n",
       "      <td>351064</td>\n",
       "      <td>SONIA MARIA ALEXANDRE PEREIRA PROFESSORA</td>\n",
       "      <td>EM-3ª série</td>\n",
       "      <td>9</td>\n",
       "      <td>GERAL</td>\n",
       "      <td>1</td>\n",
       "      <td>LÍNGUA PORTUGUESA</td>\n",
       "      <td>NaN</td>\n",
       "    </tr>\n",
       "    <tr>\n",
       "      <th>14081</th>\n",
       "      <td>1</td>\n",
       "      <td>1</td>\n",
       "      <td>Rede Estadual</td>\n",
       "      <td>4</td>\n",
       "      <td>351064</td>\n",
       "      <td>SONIA MARIA ALEXANDRE PEREIRA PROFESSORA</td>\n",
       "      <td>EM-3ª série</td>\n",
       "      <td>9</td>\n",
       "      <td>GERAL</td>\n",
       "      <td>2</td>\n",
       "      <td>MATEMÁTICA</td>\n",
       "      <td>NaN</td>\n",
       "    </tr>\n",
       "  </tbody>\n",
       "</table>\n",
       "</div>"
      ],
      "text/plain": [
       "       DEPADM  DepBol     NomeDepBol  codRMet  CODESC  \\\n",
       "14078       1       1  Rede Estadual        4  351064   \n",
       "14079       1       1  Rede Estadual        4  351064   \n",
       "14080       1       1  Rede Estadual        4  351064   \n",
       "14081       1       1  Rede Estadual        4  351064   \n",
       "\n",
       "                                         NOMESC    SERIE_ANO  cod_per periodo  \\\n",
       "14078  SONIA MARIA ALEXANDRE PEREIRA PROFESSORA    9º Ano EF        9   GERAL   \n",
       "14079  SONIA MARIA ALEXANDRE PEREIRA PROFESSORA    9º Ano EF        9   GERAL   \n",
       "14080  SONIA MARIA ALEXANDRE PEREIRA PROFESSORA  EM-3ª série        9   GERAL   \n",
       "14081  SONIA MARIA ALEXANDRE PEREIRA PROFESSORA  EM-3ª série        9   GERAL   \n",
       "\n",
       "       co_comp            ds_comp  medprof  \n",
       "14078        1  LÍNGUA PORTUGUESA      NaN  \n",
       "14079        2         MATEMÁTICA      NaN  \n",
       "14080        1  LÍNGUA PORTUGUESA      NaN  \n",
       "14081        2         MATEMÁTICA      NaN  "
      ]
     },
     "execution_count": 7,
     "metadata": {},
     "output_type": "execute_result"
    }
   ],
   "source": [
    "data[data['medprof'].isnull()]"
   ]
  },
  {
   "cell_type": "markdown",
   "metadata": {},
   "source": [
    "#### Filtrando dados da escola *SONIA MARIA ALEXANDRE PEREIRA PROFESSORA*\n",
    "A base de dados apresenta apenas 4 instâncias com lacunas, e todas são do atributo (medprof), o indicador de proeficiência que é o mais importante da base. "
   ]
  },
  {
   "cell_type": "code",
   "execution_count": 8,
   "metadata": {},
   "outputs": [
    {
     "data": {
      "text/html": [
       "<div>\n",
       "<style scoped>\n",
       "    .dataframe tbody tr th:only-of-type {\n",
       "        vertical-align: middle;\n",
       "    }\n",
       "\n",
       "    .dataframe tbody tr th {\n",
       "        vertical-align: top;\n",
       "    }\n",
       "\n",
       "    .dataframe thead th {\n",
       "        text-align: right;\n",
       "    }\n",
       "</style>\n",
       "<table border=\"1\" class=\"dataframe\">\n",
       "  <thead>\n",
       "    <tr style=\"text-align: right;\">\n",
       "      <th></th>\n",
       "      <th>DEPADM</th>\n",
       "      <th>DepBol</th>\n",
       "      <th>NomeDepBol</th>\n",
       "      <th>codRMet</th>\n",
       "      <th>CODESC</th>\n",
       "      <th>NOMESC</th>\n",
       "      <th>SERIE_ANO</th>\n",
       "      <th>cod_per</th>\n",
       "      <th>periodo</th>\n",
       "      <th>co_comp</th>\n",
       "      <th>ds_comp</th>\n",
       "      <th>medprof</th>\n",
       "    </tr>\n",
       "  </thead>\n",
       "  <tbody>\n",
       "    <tr>\n",
       "      <th>14078</th>\n",
       "      <td>1</td>\n",
       "      <td>1</td>\n",
       "      <td>Rede Estadual</td>\n",
       "      <td>4</td>\n",
       "      <td>351064</td>\n",
       "      <td>SONIA MARIA ALEXANDRE PEREIRA PROFESSORA</td>\n",
       "      <td>9º Ano EF</td>\n",
       "      <td>9</td>\n",
       "      <td>GERAL</td>\n",
       "      <td>1</td>\n",
       "      <td>LÍNGUA PORTUGUESA</td>\n",
       "      <td>NaN</td>\n",
       "    </tr>\n",
       "    <tr>\n",
       "      <th>14079</th>\n",
       "      <td>1</td>\n",
       "      <td>1</td>\n",
       "      <td>Rede Estadual</td>\n",
       "      <td>4</td>\n",
       "      <td>351064</td>\n",
       "      <td>SONIA MARIA ALEXANDRE PEREIRA PROFESSORA</td>\n",
       "      <td>9º Ano EF</td>\n",
       "      <td>9</td>\n",
       "      <td>GERAL</td>\n",
       "      <td>2</td>\n",
       "      <td>MATEMÁTICA</td>\n",
       "      <td>NaN</td>\n",
       "    </tr>\n",
       "    <tr>\n",
       "      <th>14080</th>\n",
       "      <td>1</td>\n",
       "      <td>1</td>\n",
       "      <td>Rede Estadual</td>\n",
       "      <td>4</td>\n",
       "      <td>351064</td>\n",
       "      <td>SONIA MARIA ALEXANDRE PEREIRA PROFESSORA</td>\n",
       "      <td>EM-3ª série</td>\n",
       "      <td>9</td>\n",
       "      <td>GERAL</td>\n",
       "      <td>1</td>\n",
       "      <td>LÍNGUA PORTUGUESA</td>\n",
       "      <td>NaN</td>\n",
       "    </tr>\n",
       "    <tr>\n",
       "      <th>14081</th>\n",
       "      <td>1</td>\n",
       "      <td>1</td>\n",
       "      <td>Rede Estadual</td>\n",
       "      <td>4</td>\n",
       "      <td>351064</td>\n",
       "      <td>SONIA MARIA ALEXANDRE PEREIRA PROFESSORA</td>\n",
       "      <td>EM-3ª série</td>\n",
       "      <td>9</td>\n",
       "      <td>GERAL</td>\n",
       "      <td>2</td>\n",
       "      <td>MATEMÁTICA</td>\n",
       "      <td>NaN</td>\n",
       "    </tr>\n",
       "  </tbody>\n",
       "</table>\n",
       "</div>"
      ],
      "text/plain": [
       "       DEPADM  DepBol     NomeDepBol  codRMet  CODESC  \\\n",
       "14078       1       1  Rede Estadual        4  351064   \n",
       "14079       1       1  Rede Estadual        4  351064   \n",
       "14080       1       1  Rede Estadual        4  351064   \n",
       "14081       1       1  Rede Estadual        4  351064   \n",
       "\n",
       "                                         NOMESC    SERIE_ANO  cod_per periodo  \\\n",
       "14078  SONIA MARIA ALEXANDRE PEREIRA PROFESSORA    9º Ano EF        9   GERAL   \n",
       "14079  SONIA MARIA ALEXANDRE PEREIRA PROFESSORA    9º Ano EF        9   GERAL   \n",
       "14080  SONIA MARIA ALEXANDRE PEREIRA PROFESSORA  EM-3ª série        9   GERAL   \n",
       "14081  SONIA MARIA ALEXANDRE PEREIRA PROFESSORA  EM-3ª série        9   GERAL   \n",
       "\n",
       "       co_comp            ds_comp  medprof  \n",
       "14078        1  LÍNGUA PORTUGUESA      NaN  \n",
       "14079        2         MATEMÁTICA      NaN  \n",
       "14080        1  LÍNGUA PORTUGUESA      NaN  \n",
       "14081        2         MATEMÁTICA      NaN  "
      ]
     },
     "execution_count": 8,
     "metadata": {},
     "output_type": "execute_result"
    }
   ],
   "source": [
    "data[data['CODESC'] == 351064]"
   ]
  },
  {
   "cell_type": "markdown",
   "metadata": {},
   "source": [
    "Todos as instâncias referêntes a esta escola não tem valor para o atributo *medprof*. Por isso, estes serão removidos da base."
   ]
  },
  {
   "cell_type": "code",
   "execution_count": 9,
   "metadata": {},
   "outputs": [],
   "source": [
    "data.dropna(inplace=True)"
   ]
  },
  {
   "cell_type": "markdown",
   "metadata": {},
   "source": [
    "## Análise da Média da Proficiência (*medprof*)"
   ]
  },
  {
   "cell_type": "markdown",
   "metadata": {},
   "source": [
    "#### Todos os dados"
   ]
  },
  {
   "cell_type": "code",
   "execution_count": 10,
   "metadata": {},
   "outputs": [
    {
     "data": {
      "image/png": "[encoded data removed]",
      "text/plain": [
       "<Figure size 1296x504 with 2 Axes>"
      ]
     },
     "metadata": {
      "needs_background": "light"
     },
     "output_type": "display_data"
    }
   ],
   "source": [
    "fig, axs = plt.subplots(1,2, figsize=(18,7))\n",
    "sns.boxplot(data['medprof'], orient='vertical', ax=axs[0])\n",
    "# sns.boxplot(data['medprof'], orient='vertical', ax=axs[1])\n",
    "data['medprof'].plot(kind='hist', bins=30, ax=axs[1])\n",
    "plt.tight_layout()"
   ]
  },
  {
   "cell_type": "code",
   "execution_count": 11,
   "metadata": {},
   "outputs": [
    {
     "data": {
      "text/html": [
       "<div>\n",
       "<style scoped>\n",
       "    .dataframe tbody tr th:only-of-type {\n",
       "        vertical-align: middle;\n",
       "    }\n",
       "\n",
       "    .dataframe tbody tr th {\n",
       "        vertical-align: top;\n",
       "    }\n",
       "\n",
       "    .dataframe thead th {\n",
       "        text-align: right;\n",
       "    }\n",
       "</style>\n",
       "<table border=\"1\" class=\"dataframe\">\n",
       "  <thead>\n",
       "    <tr style=\"text-align: right;\">\n",
       "      <th></th>\n",
       "      <th>DEPADM</th>\n",
       "      <th>DepBol</th>\n",
       "      <th>NomeDepBol</th>\n",
       "      <th>codRMet</th>\n",
       "      <th>CODESC</th>\n",
       "      <th>NOMESC</th>\n",
       "      <th>SERIE_ANO</th>\n",
       "      <th>cod_per</th>\n",
       "      <th>periodo</th>\n",
       "      <th>co_comp</th>\n",
       "      <th>ds_comp</th>\n",
       "      <th>medprof</th>\n",
       "    </tr>\n",
       "  </thead>\n",
       "  <tbody>\n",
       "    <tr>\n",
       "      <th>11348</th>\n",
       "      <td>1</td>\n",
       "      <td>1</td>\n",
       "      <td>Rede Estadual</td>\n",
       "      <td>1</td>\n",
       "      <td>40964</td>\n",
       "      <td>LEONOR RENDESI PROFESSORA</td>\n",
       "      <td>3º Ano EF</td>\n",
       "      <td>9</td>\n",
       "      <td>GERAL</td>\n",
       "      <td>1</td>\n",
       "      <td>LÍNGUA PORTUGUESA</td>\n",
       "      <td>182.2</td>\n",
       "    </tr>\n",
       "    <tr>\n",
       "      <th>11349</th>\n",
       "      <td>1</td>\n",
       "      <td>1</td>\n",
       "      <td>Rede Estadual</td>\n",
       "      <td>1</td>\n",
       "      <td>40964</td>\n",
       "      <td>LEONOR RENDESI PROFESSORA</td>\n",
       "      <td>3º Ano EF</td>\n",
       "      <td>9</td>\n",
       "      <td>GERAL</td>\n",
       "      <td>2</td>\n",
       "      <td>MATEMÁTICA</td>\n",
       "      <td>234.7</td>\n",
       "    </tr>\n",
       "    <tr>\n",
       "      <th>11350</th>\n",
       "      <td>1</td>\n",
       "      <td>1</td>\n",
       "      <td>Rede Estadual</td>\n",
       "      <td>1</td>\n",
       "      <td>40964</td>\n",
       "      <td>LEONOR RENDESI PROFESSORA</td>\n",
       "      <td>5º Ano EF</td>\n",
       "      <td>9</td>\n",
       "      <td>GERAL</td>\n",
       "      <td>1</td>\n",
       "      <td>LÍNGUA PORTUGUESA</td>\n",
       "      <td>198.3</td>\n",
       "    </tr>\n",
       "    <tr>\n",
       "      <th>11351</th>\n",
       "      <td>1</td>\n",
       "      <td>1</td>\n",
       "      <td>Rede Estadual</td>\n",
       "      <td>1</td>\n",
       "      <td>40964</td>\n",
       "      <td>LEONOR RENDESI PROFESSORA</td>\n",
       "      <td>5º Ano EF</td>\n",
       "      <td>9</td>\n",
       "      <td>GERAL</td>\n",
       "      <td>2</td>\n",
       "      <td>MATEMÁTICA</td>\n",
       "      <td>207.7</td>\n",
       "    </tr>\n",
       "    <tr>\n",
       "      <th>11352</th>\n",
       "      <td>1</td>\n",
       "      <td>1</td>\n",
       "      <td>Rede Estadual</td>\n",
       "      <td>1</td>\n",
       "      <td>40964</td>\n",
       "      <td>LEONOR RENDESI PROFESSORA</td>\n",
       "      <td>9º Ano EF</td>\n",
       "      <td>9</td>\n",
       "      <td>GERAL</td>\n",
       "      <td>1</td>\n",
       "      <td>LÍNGUA PORTUGUESA</td>\n",
       "      <td>240.4</td>\n",
       "    </tr>\n",
       "    <tr>\n",
       "      <th>11353</th>\n",
       "      <td>1</td>\n",
       "      <td>1</td>\n",
       "      <td>Rede Estadual</td>\n",
       "      <td>1</td>\n",
       "      <td>40964</td>\n",
       "      <td>LEONOR RENDESI PROFESSORA</td>\n",
       "      <td>9º Ano EF</td>\n",
       "      <td>9</td>\n",
       "      <td>GERAL</td>\n",
       "      <td>2</td>\n",
       "      <td>MATEMÁTICA</td>\n",
       "      <td>247.1</td>\n",
       "    </tr>\n",
       "    <tr>\n",
       "      <th>11354</th>\n",
       "      <td>1</td>\n",
       "      <td>1</td>\n",
       "      <td>Rede Estadual</td>\n",
       "      <td>1</td>\n",
       "      <td>40964</td>\n",
       "      <td>LEONOR RENDESI PROFESSORA</td>\n",
       "      <td>EM-3ª série</td>\n",
       "      <td>9</td>\n",
       "      <td>GERAL</td>\n",
       "      <td>1</td>\n",
       "      <td>LÍNGUA PORTUGUESA</td>\n",
       "      <td>275.1</td>\n",
       "    </tr>\n",
       "    <tr>\n",
       "      <th>11355</th>\n",
       "      <td>1</td>\n",
       "      <td>1</td>\n",
       "      <td>Rede Estadual</td>\n",
       "      <td>1</td>\n",
       "      <td>40964</td>\n",
       "      <td>LEONOR RENDESI PROFESSORA</td>\n",
       "      <td>EM-3ª série</td>\n",
       "      <td>9</td>\n",
       "      <td>GERAL</td>\n",
       "      <td>2</td>\n",
       "      <td>MATEMÁTICA</td>\n",
       "      <td>271.1</td>\n",
       "    </tr>\n",
       "  </tbody>\n",
       "</table>\n",
       "</div>"
      ],
      "text/plain": [
       "       DEPADM  DepBol     NomeDepBol  codRMet  CODESC  \\\n",
       "11348       1       1  Rede Estadual        1   40964   \n",
       "11349       1       1  Rede Estadual        1   40964   \n",
       "11350       1       1  Rede Estadual        1   40964   \n",
       "11351       1       1  Rede Estadual        1   40964   \n",
       "11352       1       1  Rede Estadual        1   40964   \n",
       "11353       1       1  Rede Estadual        1   40964   \n",
       "11354       1       1  Rede Estadual        1   40964   \n",
       "11355       1       1  Rede Estadual        1   40964   \n",
       "\n",
       "                          NOMESC    SERIE_ANO  cod_per periodo  co_comp  \\\n",
       "11348  LEONOR RENDESI PROFESSORA    3º Ano EF        9   GERAL        1   \n",
       "11349  LEONOR RENDESI PROFESSORA    3º Ano EF        9   GERAL        2   \n",
       "11350  LEONOR RENDESI PROFESSORA    5º Ano EF        9   GERAL        1   \n",
       "11351  LEONOR RENDESI PROFESSORA    5º Ano EF        9   GERAL        2   \n",
       "11352  LEONOR RENDESI PROFESSORA    9º Ano EF        9   GERAL        1   \n",
       "11353  LEONOR RENDESI PROFESSORA    9º Ano EF        9   GERAL        2   \n",
       "11354  LEONOR RENDESI PROFESSORA  EM-3ª série        9   GERAL        1   \n",
       "11355  LEONOR RENDESI PROFESSORA  EM-3ª série        9   GERAL        2   \n",
       "\n",
       "                 ds_comp  medprof  \n",
       "11348  LÍNGUA PORTUGUESA    182.2  \n",
       "11349         MATEMÁTICA    234.7  \n",
       "11350  LÍNGUA PORTUGUESA    198.3  \n",
       "11351         MATEMÁTICA    207.7  \n",
       "11352  LÍNGUA PORTUGUESA    240.4  \n",
       "11353         MATEMÁTICA    247.1  \n",
       "11354  LÍNGUA PORTUGUESA    275.1  \n",
       "11355         MATEMÁTICA    271.1  "
      ]
     },
     "execution_count": 11,
     "metadata": {},
     "output_type": "execute_result"
    }
   ],
   "source": [
    "data[data['CODESC'] == data['CODESC'].value_counts().index[0]]"
   ]
  },
  {
   "cell_type": "markdown",
   "metadata": {},
   "source": [
    "#### Intervalos de Pontuação\n",
    "Baseado em: https://dados.educacao.sp.gov.br/story/saresp"
   ]
  },
  {
   "cell_type": "code",
   "execution_count": 12,
   "metadata": {},
   "outputs": [
    {
     "data": {
      "image/png": "[encoded data removed]",
      "text/plain": [
       "<IPython.core.display.Image object>"
      ]
     },
     "execution_count": 12,
     "metadata": {},
     "output_type": "execute_result"
    }
   ],
   "source": [
    "Image('../references/intervalos_pontuacao.PNG')"
   ]
  },
  {
   "cell_type": "code",
   "execution_count": 13,
   "metadata": {},
   "outputs": [],
   "source": [
    "bins_port_3EF = [0, 125, 175, 255, np.inf]\n",
    "bins_port_5EF = [0, 150, 200, 250, np.inf]\n",
    "bins_port_7EF = [0, 175, 225, 275, np.inf]\n",
    "bins_port_9EF = [0, 200, 275, 325, np.inf]\n",
    "bins_port_3EM = [0, 250, 300, 375, np.inf]\n",
    "\n",
    "bins_mat_3EF = [0, 150, 200, 250, np.inf]\n",
    "bins_mat_5EF = [0, 175, 225, 275, np.inf]\n",
    "bins_mat_7EF = [0, 200, 250, 300, np.inf]\n",
    "bins_mat_9EF = [0, 225, 300, 350, np.inf]\n",
    "bins_mat_3EM = [0, 275, 350, 400, np.inf]"
   ]
  },
  {
   "cell_type": "code",
   "execution_count": 14,
   "metadata": {},
   "outputs": [],
   "source": [
    "map_intervals = {\n",
    "    'LÍNGUA PORTUGUESA': {\n",
    "        '3º Ano EF': bins_port_3EF,\n",
    "        '5º Ano EF': bins_port_5EF,\n",
    "        '7º Ano EF': bins_port_7EF,\n",
    "        '9º Ano EF': bins_port_9EF,\n",
    "        'EM-3ª série': bins_port_3EM\n",
    "    },\n",
    "    'MATEMÁTICA': {\n",
    "        '3º Ano EF': bins_mat_3EF,\n",
    "        '5º Ano EF': bins_mat_5EF,\n",
    "        '7º Ano EF': bins_mat_7EF,\n",
    "        '9º Ano EF': bins_mat_9EF,\n",
    "        'EM-3ª série': bins_mat_3EM\n",
    "    }\n",
    "}"
   ]
  },
  {
   "cell_type": "code",
   "execution_count": 15,
   "metadata": {},
   "outputs": [],
   "source": [
    "def check_intervals(disciplina, serie):\n",
    "    bins = map_intervals[disciplina][serie]\n",
    "    df = data[(data['ds_comp'] == disciplina) & (data['SERIE_ANO'] == serie)]\n",
    "    level = pd.cut(x=df['medprof'], bins=bins, labels=['ABAIXO_BASICO', 'BASICO', 'ADEQUADO', 'AVANCADO'], right=False)\n",
    "    return level"
   ]
  },
  {
   "cell_type": "code",
   "execution_count": 16,
   "metadata": {},
   "outputs": [],
   "source": [
    "data['PONTUACAO'] = None\n",
    "\n",
    "disciplinas = data['ds_comp'].unique()\n",
    "series = data['SERIE_ANO'].unique()\n",
    "\n",
    "for disciplina in disciplinas:\n",
    "    for serie in series:\n",
    "        level = check_intervals(disciplina, serie)\n",
    "        data.loc[level.index, 'PONTUACAO'] = level"
   ]
  },
  {
   "cell_type": "markdown",
   "metadata": {},
   "source": [
    "#### Total"
   ]
  },
  {
   "cell_type": "code",
   "execution_count": 17,
   "metadata": {},
   "outputs": [
    {
     "data": {
      "text/plain": [
       "<matplotlib.axes._subplots.AxesSubplot at 0x202eb52de80>"
      ]
     },
     "execution_count": 17,
     "metadata": {},
     "output_type": "execute_result"
    },
    {
     "data": {
      "image/png": "[encoded data removed]",
      "text/plain": [
       "<Figure size 432x288 with 1 Axes>"
      ]
     },
     "metadata": {
      "needs_background": "light"
     },
     "output_type": "display_data"
    }
   ],
   "source": [
    "(data['PONTUACAO'].value_counts(normalize=True) * 100).plot(kind='bar', rot=0)"
   ]
  },
  {
   "cell_type": "code",
   "execution_count": 18,
   "metadata": {},
   "outputs": [
    {
     "data": {
      "image/png": "[encoded data removed]",
      "text/plain": [
       "<Figure size 1080x864 with 4 Axes>"
      ]
     },
     "metadata": {
      "needs_background": "light"
     },
     "output_type": "display_data"
    }
   ],
   "source": [
    "df_pontuacao_disciplinas_serie = data.groupby(['SERIE_ANO', 'ds_comp'])['PONTUACAO'].value_counts(normalize=True).unstack('ds_comp')\n",
    "df_pontuacao_disciplinas_serie = df_pontuacao_disciplinas_serie.fillna(0) * 100\n",
    "\n",
    "fig, axs = plt.subplots(2, 2, figsize=(15,12), sharey=True)\n",
    "\n",
    "k = 0\n",
    "for i in range(2):\n",
    "    for j in range(2):\n",
    "        df_pontuacao_disciplinas_serie.loc[series[k], :].plot(kind='bar', ax=axs[i][j], rot=0, legend=None, grid=True, title=series[k])\n",
    "        k += 1\n",
    "        \n",
    "axs[0][0].legend(loc='upper left', fontsize=12)\n",
    "\n",
    "plt.tight_layout()"
   ]
  },
  {
   "cell_type": "markdown",
   "metadata": {},
   "source": [
    "#### Avaliando escolas boas e ruins baseado na pontuação\n",
    "Onde:\n",
    "    - RUIM: {ABAIXO_BASICO, BASICO} \n",
    "    - BOM: {ADEQUADO, AVANCADO}"
   ]
  },
  {
   "cell_type": "code",
   "execution_count": 19,
   "metadata": {},
   "outputs": [],
   "source": [
    "data['DESEMPENHO'] = data['PONTUACAO'].replace({'ABAIXO_BASICO': 'RUIM', 'BASICO': 'RUIM', 'ADEQUADO': 'BOM', 'AVANCADO': 'BOM'})"
   ]
  },
  {
   "cell_type": "code",
   "execution_count": 20,
   "metadata": {},
   "outputs": [
    {
     "data": {
      "image/png": "[encoded data removed]",
      "text/plain": [
       "<Figure size 1080x864 with 4 Axes>"
      ]
     },
     "metadata": {
      "needs_background": "light"
     },
     "output_type": "display_data"
    }
   ],
   "source": [
    "df_desempenho_disciplinas_serie = data.groupby(['SERIE_ANO', 'ds_comp'])['DESEMPENHO'].value_counts(normalize=True).unstack('ds_comp')\n",
    "df_desempenho_disciplinas_serie = df_desempenho_disciplinas_serie.fillna(0) * 100\n",
    "\n",
    "fig, axs = plt.subplots(2, 2, figsize=(15,12), sharey=True)\n",
    "\n",
    "k = 0\n",
    "for i in range(2):\n",
    "    for j in range(2):\n",
    "        df_desempenho_disciplinas_serie.loc[series[k], :].plot(kind='bar', ax=axs[i][j], rot=0, legend=None, grid=True, title=series[k])\n",
    "        k += 1\n",
    "\n",
    "axs[0][0].legend(loc='upper left', fontsize=12)\n",
    "\n",
    "plt.tight_layout()"
   ]
  },
  {
   "cell_type": "markdown",
   "metadata": {},
   "source": [
    "### Calculando o desempenho por escola"
   ]
  },
  {
   "cell_type": "code",
   "execution_count": 21,
   "metadata": {},
   "outputs": [
    {
     "data": {
      "text/html": [
       "<div>\n",
       "<style scoped>\n",
       "    .dataframe tbody tr th:only-of-type {\n",
       "        vertical-align: middle;\n",
       "    }\n",
       "\n",
       "    .dataframe tbody tr th {\n",
       "        vertical-align: top;\n",
       "    }\n",
       "\n",
       "    .dataframe thead th {\n",
       "        text-align: right;\n",
       "    }\n",
       "</style>\n",
       "<table border=\"1\" class=\"dataframe\">\n",
       "  <thead>\n",
       "    <tr style=\"text-align: right;\">\n",
       "      <th>DESEMPENHO</th>\n",
       "      <th>BOM</th>\n",
       "      <th>RUIM</th>\n",
       "    </tr>\n",
       "    <tr>\n",
       "      <th>CODESC</th>\n",
       "      <th></th>\n",
       "      <th></th>\n",
       "    </tr>\n",
       "  </thead>\n",
       "  <tbody>\n",
       "    <tr>\n",
       "      <th>12</th>\n",
       "      <td>0.0</td>\n",
       "      <td>2.0</td>\n",
       "    </tr>\n",
       "    <tr>\n",
       "      <th>24</th>\n",
       "      <td>1.0</td>\n",
       "      <td>7.0</td>\n",
       "    </tr>\n",
       "    <tr>\n",
       "      <th>36</th>\n",
       "      <td>0.0</td>\n",
       "      <td>4.0</td>\n",
       "    </tr>\n",
       "    <tr>\n",
       "      <th>48</th>\n",
       "      <td>0.0</td>\n",
       "      <td>2.0</td>\n",
       "    </tr>\n",
       "    <tr>\n",
       "      <th>59</th>\n",
       "      <td>0.0</td>\n",
       "      <td>2.0</td>\n",
       "    </tr>\n",
       "  </tbody>\n",
       "</table>\n",
       "</div>"
      ],
      "text/plain": [
       "DESEMPENHO  BOM  RUIM\n",
       "CODESC               \n",
       "12          0.0   2.0\n",
       "24          1.0   7.0\n",
       "36          0.0   4.0\n",
       "48          0.0   2.0\n",
       "59          0.0   2.0"
      ]
     },
     "execution_count": 21,
     "metadata": {},
     "output_type": "execute_result"
    }
   ],
   "source": [
    "df_desempenho_escola = data.groupby('CODESC')['DESEMPENHO'].value_counts().unstack().fillna(0)\n",
    "df_desempenho_escola.head()"
   ]
  },
  {
   "cell_type": "code",
   "execution_count": 22,
   "metadata": {},
   "outputs": [],
   "source": [
    "df_desempenho_escola['DESEMPENHO_ESC'] = 0\n",
    "df_desempenho_escola.loc[df_desempenho_escola['BOM'] > df_desempenho_escola['RUIM'],  'DESEMPENHO_ESC'] = 1"
   ]
  },
  {
   "cell_type": "markdown",
   "metadata": {},
   "source": [
    "### Distribuição do desempenho escolar-"
   ]
  },
  {
   "cell_type": "code",
   "execution_count": 23,
   "metadata": {},
   "outputs": [
    {
     "data": {
      "text/plain": [
       "0    0.841273\n",
       "1    0.158727\n",
       "Name: DESEMPENHO_ESC, dtype: float64"
      ]
     },
     "execution_count": 23,
     "metadata": {},
     "output_type": "execute_result"
    }
   ],
   "source": [
    "df_desempenho_escola['DESEMPENHO_ESC'].value_counts(normalize=True)"
   ]
  },
  {
   "cell_type": "code",
   "execution_count": 24,
   "metadata": {},
   "outputs": [],
   "source": [
    "df_desempenho_escola = df_desempenho_escola.reset_index()"
   ]
  },
  {
   "cell_type": "markdown",
   "metadata": {},
   "source": [
    "## Exportar dos dados"
   ]
  },
  {
   "cell_type": "code",
   "execution_count": 25,
   "metadata": {},
   "outputs": [],
   "source": [
    "df_desempenho_escola.to_csv('../data/processed/desempenho_escolas_saresp_2018.csv', index=False)"
   ]
  }
 ],
 "metadata": {
  "kernelspec": {
   "display_name": "Python 3",
   "language": "python",
   "name": "python3"
  },
  "language_info": {
   "codemirror_mode": {
    "name": "ipython",
    "version": 3
   },
   "file_extension": ".py",
   "mimetype": "text/x-python",
   "name": "python",
   "nbconvert_exporter": "python",
   "pygments_lexer": "ipython3",
   "version": "3.7.3"
  }
 },
 "nbformat": 4,
 "nbformat_minor": 4
}
