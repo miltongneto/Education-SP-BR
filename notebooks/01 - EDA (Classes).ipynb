{
 "cells": [
  {
   "cell_type": "markdown",
   "metadata": {},
   "source": [
    "# Exploratory Data Analysis - Quantidade de Alunos\n",
    "Quantidade de alunos por classe"
   ]
  },
  {
   "cell_type": "markdown",
   "metadata": {},
   "source": [
    "#### Imports"
   ]
  },
  {
   "cell_type": "code",
   "execution_count": 86,
   "metadata": {},
   "outputs": [],
   "source": [
    "import pandas as pd\n",
    "import os\n",
    "import matplotlib.pyplot as plt\n",
    "import seaborn as sns\n",
    "import numpy as np\n",
    "from unidecode import unidecode\n",
    "\n",
    "pd.set_option('display.max_columns', None)"
   ]
  },
  {
   "cell_type": "markdown",
   "metadata": {},
   "source": [
    "## Load data"
   ]
  },
  {
   "cell_type": "code",
   "execution_count": 87,
   "metadata": {},
   "outputs": [],
   "source": [
    "PATH = '../data/raw'"
   ]
  },
  {
   "cell_type": "markdown",
   "metadata": {},
   "source": [
    "### Dados das coordenadas"
   ]
  },
  {
   "cell_type": "code",
   "execution_count": 88,
   "metadata": {},
   "outputs": [
    {
     "name": "stdout",
     "output_type": "stream",
     "text": [
      "(803941, 18)\n"
     ]
    },
    {
     "data": {
      "text/html": [
       "<div>\n",
       "<style scoped>\n",
       "    .dataframe tbody tr th:only-of-type {\n",
       "        vertical-align: middle;\n",
       "    }\n",
       "\n",
       "    .dataframe tbody tr th {\n",
       "        vertical-align: top;\n",
       "    }\n",
       "\n",
       "    .dataframe thead th {\n",
       "        text-align: right;\n",
       "    }\n",
       "</style>\n",
       "<table border=\"1\" class=\"dataframe\">\n",
       "  <thead>\n",
       "    <tr style=\"text-align: right;\">\n",
       "      <th></th>\n",
       "      <th>ANO</th>\n",
       "      <th>NOMEDEP</th>\n",
       "      <th>DE</th>\n",
       "      <th>MUN</th>\n",
       "      <th>DISTR</th>\n",
       "      <th>COD_ESC</th>\n",
       "      <th>NOMESC</th>\n",
       "      <th>TIPOESC</th>\n",
       "      <th>TIPOESC_DESC</th>\n",
       "      <th>SITUACAO</th>\n",
       "      <th>CLASSE</th>\n",
       "      <th>TIPOCLASSE</th>\n",
       "      <th>TIPOCLASSE_DESC</th>\n",
       "      <th>GRAU</th>\n",
       "      <th>TipoEnsino</th>\n",
       "      <th>SERIE</th>\n",
       "      <th>QTDE_ALUNOS</th>\n",
       "      <th>CODVINC</th>\n",
       "    </tr>\n",
       "  </thead>\n",
       "  <tbody>\n",
       "    <tr>\n",
       "      <th>0</th>\n",
       "      <td>2014</td>\n",
       "      <td>ESTADUAL - SE</td>\n",
       "      <td>ADAMANTINA</td>\n",
       "      <td>ADAMANTINA</td>\n",
       "      <td>ADAMANTINA</td>\n",
       "      <td>30806</td>\n",
       "      <td>HELEN KELLER</td>\n",
       "      <td>8</td>\n",
       "      <td>EE</td>\n",
       "      <td>Ativa</td>\n",
       "      <td>182570713</td>\n",
       "      <td>0</td>\n",
       "      <td>CLASSE COMUM</td>\n",
       "      <td>1</td>\n",
       "      <td>ENSINO FUNDAMENTAL DE 8 ANOS</td>\n",
       "      <td>8</td>\n",
       "      <td>21</td>\n",
       "      <td>NaN</td>\n",
       "    </tr>\n",
       "    <tr>\n",
       "      <th>1</th>\n",
       "      <td>2014</td>\n",
       "      <td>ESTADUAL - SE</td>\n",
       "      <td>ADAMANTINA</td>\n",
       "      <td>ADAMANTINA</td>\n",
       "      <td>ADAMANTINA</td>\n",
       "      <td>30806</td>\n",
       "      <td>HELEN KELLER</td>\n",
       "      <td>8</td>\n",
       "      <td>EE</td>\n",
       "      <td>Ativa</td>\n",
       "      <td>182570762</td>\n",
       "      <td>0</td>\n",
       "      <td>CLASSE COMUM</td>\n",
       "      <td>2</td>\n",
       "      <td>ENSINO MEDIO</td>\n",
       "      <td>2</td>\n",
       "      <td>37</td>\n",
       "      <td>NaN</td>\n",
       "    </tr>\n",
       "    <tr>\n",
       "      <th>2</th>\n",
       "      <td>2014</td>\n",
       "      <td>ESTADUAL - SE</td>\n",
       "      <td>ADAMANTINA</td>\n",
       "      <td>ADAMANTINA</td>\n",
       "      <td>ADAMANTINA</td>\n",
       "      <td>30806</td>\n",
       "      <td>HELEN KELLER</td>\n",
       "      <td>8</td>\n",
       "      <td>EE</td>\n",
       "      <td>Ativa</td>\n",
       "      <td>186061859</td>\n",
       "      <td>1</td>\n",
       "      <td>CLASSE MULTISSERIADA</td>\n",
       "      <td>5</td>\n",
       "      <td>EJA ENSINO MÉDIO</td>\n",
       "      <td>10</td>\n",
       "      <td>25</td>\n",
       "      <td>NaN</td>\n",
       "    </tr>\n",
       "    <tr>\n",
       "      <th>3</th>\n",
       "      <td>2014</td>\n",
       "      <td>ESTADUAL - SE</td>\n",
       "      <td>ADAMANTINA</td>\n",
       "      <td>ADAMANTINA</td>\n",
       "      <td>ADAMANTINA</td>\n",
       "      <td>31045</td>\n",
       "      <td>DURVALINO GRION PROF</td>\n",
       "      <td>8</td>\n",
       "      <td>EE</td>\n",
       "      <td>Ativa</td>\n",
       "      <td>182570440</td>\n",
       "      <td>0</td>\n",
       "      <td>CLASSE COMUM</td>\n",
       "      <td>2</td>\n",
       "      <td>ENSINO MEDIO</td>\n",
       "      <td>2</td>\n",
       "      <td>26</td>\n",
       "      <td>NaN</td>\n",
       "    </tr>\n",
       "    <tr>\n",
       "      <th>4</th>\n",
       "      <td>2014</td>\n",
       "      <td>ESTADUAL - SE</td>\n",
       "      <td>ADAMANTINA</td>\n",
       "      <td>ADAMANTINA</td>\n",
       "      <td>ADAMANTINA</td>\n",
       "      <td>31045</td>\n",
       "      <td>DURVALINO GRION PROF</td>\n",
       "      <td>8</td>\n",
       "      <td>EE</td>\n",
       "      <td>Ativa</td>\n",
       "      <td>182570465</td>\n",
       "      <td>0</td>\n",
       "      <td>CLASSE COMUM</td>\n",
       "      <td>2</td>\n",
       "      <td>ENSINO MEDIO</td>\n",
       "      <td>3</td>\n",
       "      <td>33</td>\n",
       "      <td>NaN</td>\n",
       "    </tr>\n",
       "  </tbody>\n",
       "</table>\n",
       "</div>"
      ],
      "text/plain": [
       "    ANO        NOMEDEP          DE         MUN       DISTR  COD_ESC  \\\n",
       "0  2014  ESTADUAL - SE  ADAMANTINA  ADAMANTINA  ADAMANTINA    30806   \n",
       "1  2014  ESTADUAL - SE  ADAMANTINA  ADAMANTINA  ADAMANTINA    30806   \n",
       "2  2014  ESTADUAL - SE  ADAMANTINA  ADAMANTINA  ADAMANTINA    30806   \n",
       "3  2014  ESTADUAL - SE  ADAMANTINA  ADAMANTINA  ADAMANTINA    31045   \n",
       "4  2014  ESTADUAL - SE  ADAMANTINA  ADAMANTINA  ADAMANTINA    31045   \n",
       "\n",
       "                 NOMESC  TIPOESC TIPOESC_DESC SITUACAO     CLASSE  TIPOCLASSE  \\\n",
       "0          HELEN KELLER        8           EE    Ativa  182570713           0   \n",
       "1          HELEN KELLER        8           EE    Ativa  182570762           0   \n",
       "2          HELEN KELLER        8           EE    Ativa  186061859           1   \n",
       "3  DURVALINO GRION PROF        8           EE    Ativa  182570440           0   \n",
       "4  DURVALINO GRION PROF        8           EE    Ativa  182570465           0   \n",
       "\n",
       "        TIPOCLASSE_DESC  GRAU                    TipoEnsino  SERIE  \\\n",
       "0          CLASSE COMUM     1  ENSINO FUNDAMENTAL DE 8 ANOS      8   \n",
       "1          CLASSE COMUM     2                  ENSINO MEDIO      2   \n",
       "2  CLASSE MULTISSERIADA     5              EJA ENSINO MÉDIO     10   \n",
       "3          CLASSE COMUM     2                  ENSINO MEDIO      2   \n",
       "4          CLASSE COMUM     2                  ENSINO MEDIO      3   \n",
       "\n",
       "   QTDE_ALUNOS  CODVINC  \n",
       "0           21      NaN  \n",
       "1           37      NaN  \n",
       "2           25      NaN  \n",
       "3           26      NaN  \n",
       "4           33      NaN  "
      ]
     },
     "execution_count": 88,
     "metadata": {},
     "output_type": "execute_result"
    }
   ],
   "source": [
    "# Edição manual no arquivo \"escolas_enderecos_0.csv\" na linha 25881, remoção do \"campo\" com 00E+91\n",
    "data = pd.read_csv(os.path.join(PATH, '10_Escolas_Classes_Qtde_Alunos.csv'), sep=';')\n",
    "print(data.shape)\n",
    "data.head()"
   ]
  },
  {
   "cell_type": "markdown",
   "metadata": {},
   "source": [
    "### Filtrar apenas dados de 2018"
   ]
  },
  {
   "cell_type": "code",
   "execution_count": 89,
   "metadata": {},
   "outputs": [
    {
     "data": {
      "text/plain": [
       "(127436, 18)"
      ]
     },
     "execution_count": 89,
     "metadata": {},
     "output_type": "execute_result"
    }
   ],
   "source": [
    "data = data[data['ANO'] == 2018]\n",
    "data.shape"
   ]
  },
  {
   "cell_type": "markdown",
   "metadata": {},
   "source": [
    "### Tipos de classes"
   ]
  },
  {
   "cell_type": "code",
   "execution_count": 90,
   "metadata": {},
   "outputs": [
    {
     "data": {
      "text/plain": [
       "CLASSE COMUM                                 113698\n",
       "CLASSE MULTISSERIADA                           6045\n",
       "CLASSE DE SALA DE RECURSOS                     4513\n",
       "CLASSE DE EF/EM INTEGRAL                       1618\n",
       "CLASSE DA ED. ESPECIAL ITINERANTE               712\n",
       "RC-RCI - RECUPERACAO CONTINUA E INTENSIVA       219\n",
       "RC - RECUPERACAO INTENSIVA DE CICLO             157\n",
       "RECUPERAÇÃO INTENSIVA - REDE ESTADUAL-SE        113\n",
       "CLASSE DE RECUPERACAO DE CICLO                  101\n",
       "ENSINO MEDIO ARTICULADO                          74\n",
       "CLASSE DE SALA DE RECURSOS MULTIFUNCIONAL        20\n",
       "CLASSE PIC                                        9\n",
       "Name: TIPOCLASSE_DESC, dtype: int64"
      ]
     },
     "execution_count": 90,
     "metadata": {},
     "output_type": "execute_result"
    }
   ],
   "source": [
    "data['TIPOCLASSE_DESC'].value_counts()"
   ]
  },
  {
   "cell_type": "markdown",
   "metadata": {},
   "source": [
    "## Agregacao por escola"
   ]
  },
  {
   "cell_type": "markdown",
   "metadata": {},
   "source": [
    "### Quantidade de alunos na escola"
   ]
  },
  {
   "cell_type": "code",
   "execution_count": 91,
   "metadata": {},
   "outputs": [],
   "source": [
    "qtd_alunos_escola = data.groupby(['COD_ESC'])['QTDE_ALUNOS'].sum()\n",
    "qtd_alunos_escola.name = 'QTD_TOTAL_ALUNOS'"
   ]
  },
  {
   "cell_type": "code",
   "execution_count": 92,
   "metadata": {},
   "outputs": [
    {
     "data": {
      "text/plain": [
       "<matplotlib.axes._subplots.AxesSubplot at 0x7f7bd1094910>"
      ]
     },
     "execution_count": 92,
     "metadata": {},
     "output_type": "execute_result"
    },
    {
     "data": {
      "image/png": "[encoded data removed]",
      "text/plain": [
       "<Figure size 1008x576 with 1 Axes>"
      ]
     },
     "metadata": {
      "needs_background": "light"
     },
     "output_type": "display_data"
    }
   ],
   "source": [
    "qtd_alunos_escola.plot(kind='hist', bins=30, figsize=(14,8))"
   ]
  },
  {
   "cell_type": "markdown",
   "metadata": {},
   "source": [
    "### Filtrar classes de acordo com o tipo de ensino\n",
    "Deixar apenas as classes referentes a ensino nos primeiros anos, removendo algumas salas especiais para nao comprometer a media"
   ]
  },
  {
   "cell_type": "code",
   "execution_count": 93,
   "metadata": {},
   "outputs": [
    {
     "data": {
      "text/plain": [
       "ENSINO FUNDAMENTAL DE 9 ANOS                   66755\n",
       "ENSINO MEDIO                                   39350\n",
       "EJA ENSINO MÉDIO                                5184\n",
       "EDUCACAO ESPECIAL - DM                          4229\n",
       "CEL                                             3367\n",
       "EDUCAÇÃO COMPLEMENTAR                           2906\n",
       "EJA ENSINO FUNDAMENTAL 5ª A 8ª                  2210\n",
       "ENSINO FUNDAMENTAL (6º ANO A 9º ANO) - CASA      901\n",
       "EJA ENSINO FUNDAMENTAL 1ª A 4ª                   714\n",
       "ENSINO MÉDIO - CASA                              486\n",
       "ESPECTRO DO AUTISMO                              362\n",
       "EDUCACAO ESPECIAL - DA                           347\n",
       "EDUCACAO ESPECIAL - DV                           224\n",
       "ENSINO FUNDAMENTAL (1º ANO A 5º ANO) - CASA      143\n",
       "PROJETO EXPLORANDO CURRÍCULO - PEC               130\n",
       "EDUCACAO ESPECIAL - DF                            85\n",
       "EDUCACAO INFANTIL                                 37\n",
       "SALA DE RECURSO ALTAS HABILIDADE                   6\n",
       "Name: TipoEnsino, dtype: int64"
      ]
     },
     "execution_count": 93,
     "metadata": {},
     "output_type": "execute_result"
    }
   ],
   "source": [
    "data['TipoEnsino'].value_counts()"
   ]
  },
  {
   "cell_type": "code",
   "execution_count": 94,
   "metadata": {},
   "outputs": [],
   "source": [
    "data = data[data['TipoEnsino'].isin(['ENSINO FUNDAMENTAL DE 9 ANOS', 'EDUCAÇÃO COMPLEMENTAR'])]"
   ]
  },
  {
   "cell_type": "code",
   "execution_count": 95,
   "metadata": {},
   "outputs": [
    {
     "data": {
      "text/plain": [
       "4601"
      ]
     },
     "execution_count": 95,
     "metadata": {},
     "output_type": "execute_result"
    }
   ],
   "source": [
    "data['COD_ESC'].nunique()"
   ]
  },
  {
   "cell_type": "markdown",
   "metadata": {},
   "source": [
    "### Quantidade de classes"
   ]
  },
  {
   "cell_type": "code",
   "execution_count": 96,
   "metadata": {},
   "outputs": [],
   "source": [
    "qtd_classes = data.groupby(['COD_ESC']).size()\n",
    "qtd_classes.name = 'QTD_CLASSES'"
   ]
  },
  {
   "cell_type": "code",
   "execution_count": 97,
   "metadata": {},
   "outputs": [
    {
     "data": {
      "text/plain": [
       "<matplotlib.axes._subplots.AxesSubplot at 0x7f7bd9db6810>"
      ]
     },
     "execution_count": 97,
     "metadata": {},
     "output_type": "execute_result"
    },
    {
     "data": {
      "image/png": "[encoded data removed]",
      "text/plain": [
       "<Figure size 432x288 with 1 Axes>"
      ]
     },
     "metadata": {
      "needs_background": "light"
     },
     "output_type": "display_data"
    }
   ],
   "source": [
    "qtd_classes.hist(bins=30)"
   ]
  },
  {
   "cell_type": "markdown",
   "metadata": {},
   "source": [
    "### Quantidade de alunos nos anos iniciais"
   ]
  },
  {
   "cell_type": "code",
   "execution_count": 98,
   "metadata": {},
   "outputs": [],
   "source": [
    "qtd_alunos_escola_inicio = data.groupby(['COD_ESC'])['QTDE_ALUNOS'].sum()\n",
    "qtd_alunos_escola_inicio.name = 'QTD_ALUNOS_ANOS_INICIAIS'"
   ]
  },
  {
   "cell_type": "code",
   "execution_count": 99,
   "metadata": {},
   "outputs": [
    {
     "data": {
      "text/plain": [
       "<matplotlib.axes._subplots.AxesSubplot at 0x7f7bd9cf7690>"
      ]
     },
     "execution_count": 99,
     "metadata": {},
     "output_type": "execute_result"
    },
    {
     "data": {
      "image/png": "[encoded data removed]",
      "text/plain": [
       "<Figure size 432x288 with 1 Axes>"
      ]
     },
     "metadata": {
      "needs_background": "light"
     },
     "output_type": "display_data"
    }
   ],
   "source": [
    "qtd_alunos_escola_inicio.hist(bins=30)"
   ]
  },
  {
   "cell_type": "markdown",
   "metadata": {},
   "source": [
    "### Quantidade media de alunos por classe"
   ]
  },
  {
   "cell_type": "code",
   "execution_count": 100,
   "metadata": {},
   "outputs": [],
   "source": [
    "media_alunos_classe = data.groupby(['COD_ESC'])['QTDE_ALUNOS'].mean()\n",
    "media_alunos_classe.name = 'MEDIA_ALUNOS_SALA'"
   ]
  },
  {
   "cell_type": "code",
   "execution_count": 101,
   "metadata": {},
   "outputs": [
    {
     "data": {
      "text/plain": [
       "<matplotlib.axes._subplots.AxesSubplot at 0x7f7bd9cab0d0>"
      ]
     },
     "execution_count": 101,
     "metadata": {},
     "output_type": "execute_result"
    },
    {
     "data": {
      "image/png": "[encoded data removed]",
      "text/plain": [
       "<Figure size 432x288 with 1 Axes>"
      ]
     },
     "metadata": {
      "needs_background": "light"
     },
     "output_type": "display_data"
    }
   ],
   "source": [
    "media_alunos_classe.hist(bins=30)"
   ]
  },
  {
   "cell_type": "markdown",
   "metadata": {},
   "source": [
    "### Desvio padrao da quantidade de alunos por sala"
   ]
  },
  {
   "cell_type": "code",
   "execution_count": 114,
   "metadata": {},
   "outputs": [],
   "source": [
    "std_alunos_classe = data.groupby(['COD_ESC'])['QTDE_ALUNOS'].std()\n",
    "std_alunos_classe.fillna(0, inplace=True)\n",
    "std_alunos_classe.name = 'STD_ALUNOS_SALA'"
   ]
  },
  {
   "cell_type": "code",
   "execution_count": 105,
   "metadata": {},
   "outputs": [
    {
     "data": {
      "text/plain": [
       "<matplotlib.axes._subplots.AxesSubplot at 0x7f7bd9b72bd0>"
      ]
     },
     "execution_count": 105,
     "metadata": {},
     "output_type": "execute_result"
    },
    {
     "data": {
      "image/png": "[encoded data removed]",
      "text/plain": [
       "<Figure size 432x288 with 1 Axes>"
      ]
     },
     "metadata": {
      "needs_background": "light"
     },
     "output_type": "display_data"
    }
   ],
   "source": [
    "std_alunos_classe.hist(bins=30)"
   ]
  },
  {
   "cell_type": "markdown",
   "metadata": {},
   "source": [
    "## Juntar caracteristicas"
   ]
  },
  {
   "cell_type": "code",
   "execution_count": 117,
   "metadata": {},
   "outputs": [],
   "source": [
    "df_escolas = pd.concat([qtd_alunos_escola, qtd_classes, qtd_alunos_escola_inicio, media_alunos_classe, std_alunos_classe], axis=1)"
   ]
  },
  {
   "cell_type": "code",
   "execution_count": 121,
   "metadata": {},
   "outputs": [],
   "source": [
    "df_escolas.reset_index(inplace=True)\n",
    "df_escolas.dropna(inplace=True)"
   ]
  },
  {
   "cell_type": "code",
   "execution_count": 122,
   "metadata": {},
   "outputs": [
    {
     "data": {
      "text/html": [
       "<div>\n",
       "<style scoped>\n",
       "    .dataframe tbody tr th:only-of-type {\n",
       "        vertical-align: middle;\n",
       "    }\n",
       "\n",
       "    .dataframe tbody tr th {\n",
       "        vertical-align: top;\n",
       "    }\n",
       "\n",
       "    .dataframe thead th {\n",
       "        text-align: right;\n",
       "    }\n",
       "</style>\n",
       "<table border=\"1\" class=\"dataframe\">\n",
       "  <thead>\n",
       "    <tr style=\"text-align: right;\">\n",
       "      <th></th>\n",
       "      <th>COD_ESC</th>\n",
       "      <th>QTD_TOTAL_ALUNOS</th>\n",
       "      <th>QTD_CLASSES</th>\n",
       "      <th>QTD_ALUNOS_ANOS_INICIAIS</th>\n",
       "      <th>MEDIA_ALUNOS_SALA</th>\n",
       "      <th>STD_ALUNOS_SALA</th>\n",
       "    </tr>\n",
       "  </thead>\n",
       "  <tbody>\n",
       "    <tr>\n",
       "      <th>0</th>\n",
       "      <td>12</td>\n",
       "      <td>563</td>\n",
       "      <td>16.0</td>\n",
       "      <td>563.0</td>\n",
       "      <td>35.187500</td>\n",
       "      <td>0.750000</td>\n",
       "    </tr>\n",
       "    <tr>\n",
       "      <th>1</th>\n",
       "      <td>24</td>\n",
       "      <td>2703</td>\n",
       "      <td>34.0</td>\n",
       "      <td>956.0</td>\n",
       "      <td>28.117647</td>\n",
       "      <td>5.866002</td>\n",
       "    </tr>\n",
       "    <tr>\n",
       "      <th>2</th>\n",
       "      <td>36</td>\n",
       "      <td>2164</td>\n",
       "      <td>34.0</td>\n",
       "      <td>1189.0</td>\n",
       "      <td>34.970588</td>\n",
       "      <td>1.193043</td>\n",
       "    </tr>\n",
       "    <tr>\n",
       "      <th>3</th>\n",
       "      <td>61</td>\n",
       "      <td>909</td>\n",
       "      <td>30.0</td>\n",
       "      <td>897.0</td>\n",
       "      <td>29.900000</td>\n",
       "      <td>1.953776</td>\n",
       "    </tr>\n",
       "    <tr>\n",
       "      <th>4</th>\n",
       "      <td>73</td>\n",
       "      <td>460</td>\n",
       "      <td>17.0</td>\n",
       "      <td>460.0</td>\n",
       "      <td>27.058824</td>\n",
       "      <td>4.115073</td>\n",
       "    </tr>\n",
       "    <tr>\n",
       "      <th>...</th>\n",
       "      <td>...</td>\n",
       "      <td>...</td>\n",
       "      <td>...</td>\n",
       "      <td>...</td>\n",
       "      <td>...</td>\n",
       "      <td>...</td>\n",
       "    </tr>\n",
       "    <tr>\n",
       "      <th>4596</th>\n",
       "      <td>926048</td>\n",
       "      <td>1644</td>\n",
       "      <td>38.0</td>\n",
       "      <td>1133.0</td>\n",
       "      <td>29.815789</td>\n",
       "      <td>5.617806</td>\n",
       "    </tr>\n",
       "    <tr>\n",
       "      <th>4597</th>\n",
       "      <td>926059</td>\n",
       "      <td>973</td>\n",
       "      <td>22.0</td>\n",
       "      <td>671.0</td>\n",
       "      <td>30.500000</td>\n",
       "      <td>5.087333</td>\n",
       "    </tr>\n",
       "    <tr>\n",
       "      <th>4598</th>\n",
       "      <td>926073</td>\n",
       "      <td>106</td>\n",
       "      <td>4.0</td>\n",
       "      <td>63.0</td>\n",
       "      <td>15.750000</td>\n",
       "      <td>1.707825</td>\n",
       "    </tr>\n",
       "    <tr>\n",
       "      <th>4599</th>\n",
       "      <td>926085</td>\n",
       "      <td>31</td>\n",
       "      <td>4.0</td>\n",
       "      <td>31.0</td>\n",
       "      <td>7.750000</td>\n",
       "      <td>4.991660</td>\n",
       "    </tr>\n",
       "    <tr>\n",
       "      <th>4600</th>\n",
       "      <td>926103</td>\n",
       "      <td>440</td>\n",
       "      <td>16.0</td>\n",
       "      <td>440.0</td>\n",
       "      <td>27.500000</td>\n",
       "      <td>2.875181</td>\n",
       "    </tr>\n",
       "  </tbody>\n",
       "</table>\n",
       "<p>4601 rows × 6 columns</p>\n",
       "</div>"
      ],
      "text/plain": [
       "      COD_ESC  QTD_TOTAL_ALUNOS  QTD_CLASSES  QTD_ALUNOS_ANOS_INICIAIS  \\\n",
       "0          12               563         16.0                     563.0   \n",
       "1          24              2703         34.0                     956.0   \n",
       "2          36              2164         34.0                    1189.0   \n",
       "3          61               909         30.0                     897.0   \n",
       "4          73               460         17.0                     460.0   \n",
       "...       ...               ...          ...                       ...   \n",
       "4596   926048              1644         38.0                    1133.0   \n",
       "4597   926059               973         22.0                     671.0   \n",
       "4598   926073               106          4.0                      63.0   \n",
       "4599   926085                31          4.0                      31.0   \n",
       "4600   926103               440         16.0                     440.0   \n",
       "\n",
       "      MEDIA_ALUNOS_SALA  STD_ALUNOS_SALA  \n",
       "0             35.187500         0.750000  \n",
       "1             28.117647         5.866002  \n",
       "2             34.970588         1.193043  \n",
       "3             29.900000         1.953776  \n",
       "4             27.058824         4.115073  \n",
       "...                 ...              ...  \n",
       "4596          29.815789         5.617806  \n",
       "4597          30.500000         5.087333  \n",
       "4598          15.750000         1.707825  \n",
       "4599           7.750000         4.991660  \n",
       "4600          27.500000         2.875181  \n",
       "\n",
       "[4601 rows x 6 columns]"
      ]
     },
     "execution_count": 122,
     "metadata": {},
     "output_type": "execute_result"
    }
   ],
   "source": [
    "df_escolas"
   ]
  },
  {
   "cell_type": "markdown",
   "metadata": {},
   "source": [
    "### Exportar dados"
   ]
  },
  {
   "cell_type": "code",
   "execution_count": 123,
   "metadata": {},
   "outputs": [],
   "source": [
    "df_escolas.to_csv('../data/processed/alunos_classes.csv', index=False)"
   ]
  }
 ],
 "metadata": {
  "kernelspec": {
   "display_name": "Python 3",
   "language": "python",
   "name": "python3"
  },
  "language_info": {
   "codemirror_mode": {
    "name": "ipython",
    "version": 3
   },
   "file_extension": ".py",
   "mimetype": "text/x-python",
   "name": "python",
   "nbconvert_exporter": "python",
   "pygments_lexer": "ipython3",
   "version": "3.7.6"
  }
 },
 "nbformat": 4,
 "nbformat_minor": 4
}
